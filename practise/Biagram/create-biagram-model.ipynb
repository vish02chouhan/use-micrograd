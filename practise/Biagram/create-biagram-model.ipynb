{
 "cells": [
  {
   "cell_type": "code",
   "execution_count": 1,
   "metadata": {},
   "outputs": [],
   "source": [
    "import torch\n",
    "import torch.nn.functional as F\n",
    "import sys\n",
    "sys.path.append('../../')\n",
    "from helpers import graphs\n",
    "names = open(\"../../names.txt\", \"r\").read().splitlines()\n",
    "\n",
    "vocab = sorted(list(set(''.join(names))))\n",
    "stoi = { c:i+1 for i, c in enumerate(vocab)}\n",
    "stoi[\".\"] = 0\n",
    "itos = { value:key for key,value in stoi.items()}\n",
    "# print(vocab)\n",
    "# print(stoi)\n",
    "# print(itos)\n",
    "\n",
    "\n",
    "Xtr, Ytr = [],[]\n",
    "for name in names:\n",
    "    name = \".\" + name + \".\"\n",
    "    for x,y in zip(name,name[1:]):\n",
    "        \n",
    "        Xtr.append(stoi[x])\n",
    "        Ytr.append(stoi[y])\n",
    "        \n",
    "\n",
    "\n",
    "Xtr = torch.tensor(Xtr)\n",
    "Ytr = torch.tensor(Ytr)\n",
    "Xtr[0:10],Ytr[0:10]\n",
    "\n",
    "xenc = F.one_hot(Xtr, num_classes=27).float()\n"
   ]
  },
  {
   "cell_type": "code",
   "execution_count": 6,
   "metadata": {},
   "outputs": [],
   "source": [
    "W = torch.randn(27,100)\n",
    "hpreact = xenc @ W\n",
    "h = torch.tanh(hpreact)\n",
    "\n"
   ]
  },
  {
   "cell_type": "code",
   "execution_count": 9,
   "metadata": {},
   "outputs": [
    {
     "data": {
      "text/plain": [
       "torch.Size([228146, 100])"
      ]
     },
     "execution_count": 9,
     "metadata": {},
     "output_type": "execute_result"
    }
   ],
   "source": [
    "h.shape"
   ]
  }
 ],
 "metadata": {
  "kernelspec": {
   "display_name": ".venv",
   "language": "python",
   "name": "python3"
  },
  "language_info": {
   "codemirror_mode": {
    "name": "ipython",
    "version": 3
   },
   "file_extension": ".py",
   "mimetype": "text/x-python",
   "name": "python",
   "nbconvert_exporter": "python",
   "pygments_lexer": "ipython3",
   "version": "3.11.0"
  }
 },
 "nbformat": 4,
 "nbformat_minor": 2
}
