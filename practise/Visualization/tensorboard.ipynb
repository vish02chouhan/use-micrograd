{
 "cells": [
  {
   "cell_type": "code",
   "execution_count": 5,
   "metadata": {},
   "outputs": [
    {
     "name": "stdout",
     "output_type": "stream",
     "text": [
      "warning: Embedding dir exists, did you set global_step for add_embedding()?\n"
     ]
    }
   ],
   "source": [
    "import torch\n",
    "from torch.utils.tensorboard import SummaryWriter\n",
    "from tensorboard.plugins import projector\n",
    "\n",
    "# Create a dummy tensor for visualization: 1000 points in 10 dimensions\n",
    "embeddings = torch.randn(1000, 10)\n",
    "\n",
    "# Some dummy metadata (e.g., labels)\n",
    "metadata = [str(i) for i in range(1000)]\n",
    "\n",
    "# Set up TensorBoard writer and add embeddings\n",
    "writer = SummaryWriter('runs/embeddings')\n",
    "\n",
    "# Register the embeddings and the metadata\n",
    "label_img = torch.randn(1000, 3, 10, 32)  # Random image for visualization\n",
    "writer.add_embedding(embeddings, metadata=metadata, label_img=label_img, tag='my_embeddings')\n",
    "\n",
    "writer.close()\n"
   ]
  },
  {
   "cell_type": "code",
   "execution_count": 4,
   "metadata": {},
   "outputs": [],
   "source": [
    "%load_ext tensorboard"
   ]
  },
  {
   "cell_type": "code",
   "execution_count": 7,
   "metadata": {},
   "outputs": [
    {
     "name": "stdout",
     "output_type": "stream",
     "text": [
      "^C\n"
     ]
    }
   ],
   "source": [
    "!tensorboard --logdir runs"
   ]
  }
 ],
 "metadata": {
  "kernelspec": {
   "display_name": ".venv",
   "language": "python",
   "name": "python3"
  },
  "language_info": {
   "codemirror_mode": {
    "name": "ipython",
    "version": 3
   },
   "file_extension": ".py",
   "mimetype": "text/x-python",
   "name": "python",
   "nbconvert_exporter": "python",
   "pygments_lexer": "ipython3",
   "version": "3.11.0"
  }
 },
 "nbformat": 4,
 "nbformat_minor": 2
}
