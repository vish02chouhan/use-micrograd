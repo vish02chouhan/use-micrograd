{
 "cells": [
  {
   "cell_type": "code",
   "execution_count": 54,
   "metadata": {},
   "outputs": [],
   "source": [
    "import torch\n",
    "import torch.nn.functional as F\n",
    "import matplotlib.pyplot as plt # for making figures\n",
    "%matplotlib inline"
   ]
  },
  {
   "cell_type": "code",
   "execution_count": 55,
   "metadata": {},
   "outputs": [
    {
     "data": {
      "text/plain": [
       "['emma', 'olivia', 'ava', 'isabella', 'sophia', 'charlotte', 'mia', 'amelia']"
      ]
     },
     "execution_count": 105,
     "metadata": {},
     "output_type": "execute_result"
    }
   ],
   "source": [
    "# read in all the words\n",
    "words = open('../../names.txt', 'r').read().splitlines()"
   ]
  },
  {
   "cell_type": "code",
   "execution_count": 56,
   "metadata": {},
   "outputs": [
    {
     "name": "stdout",
     "output_type": "stream",
     "text": [
      "{1: 'a', 2: 'b', 3: 'c', 4: 'd', 5: 'e', 6: 'f', 7: 'g', 8: 'h', 9: 'i', 10: 'j', 11: 'k', 12: 'l', 13: 'm', 14: 'n', 15: 'o', 16: 'p', 17: 'q', 18: 'r', 19: 's', 20: 't', 21: 'u', 22: 'v', 23: 'w', 24: 'x', 25: 'y', 26: 'z', 0: '.'}\n"
     ]
    }
   ],
   "source": [
    "# sum([ 1 for word in words if word.startswith('a')])"
   ]
  },
  {
   "cell_type": "code",
   "execution_count": 57,
   "metadata": {},
   "outputs": [],
   "source": [
    "# for k,v in itos.items():\n",
    "#     print(f\"{v}-{sum(1 for word in words if word.startswith(v))}\")\n",
    "\n",
    "# words_count = {}\n",
    "# for k,v in itos.items():\n",
    "#     for word in words:\n",
    "#         if word.startswith(v):\n",
    "#             second_sequence = v + word[1]\n",
    "#             words_count[second_sequence] = words_count.get(second_sequence, 0) + 1\n",
    "\n",
    "\n",
    "# print(words_count)\n",
    "\n",
    "# sorted(words_count.items(), key = lambda k:-k[1])\n",
    "\n",
    "    "
   ]
  },
  {
   "cell_type": "code",
   "execution_count": 58,
   "metadata": {},
   "outputs": [
    {
     "name": "stdout",
     "output_type": "stream",
     "text": [
      "{1: 'a', 2: 'b', 3: 'c', 4: 'd', 5: 'e', 6: 'f', 7: 'g', 8: 'h', 9: 'i', 10: 'j', 11: 'k', 12: 'l', 13: 'm', 14: 'n', 15: 'o', 16: 'p', 17: 'q', 18: 'r', 19: 's', 20: 't', 21: 'u', 22: 'v', 23: 'w', 24: 'x', 25: 'y', 26: 'z', 0: '.'}\n"
     ]
    }
   ],
   "source": [
    "# build the vocabulary of characters and mappings to/from integers\n",
    "chars = sorted(list(set(''.join(words))))\n",
    "stoi = {s:i+1 for i,s in enumerate(chars)}\n",
    "stoi['.'] = 0\n",
    "itos = {i:s for s,i in stoi.items()}\n",
    "print(itos)"
   ]
  },
  {
   "cell_type": "code",
   "execution_count": 59,
   "metadata": {},
   "outputs": [
    {
     "name": "stdout",
     "output_type": "stream",
     "text": [
      "torch.Size([182625, 3]) torch.Size([182625])\n",
      "torch.Size([22655, 3]) torch.Size([22655])\n",
      "torch.Size([22866, 3]) torch.Size([22866])\n"
     ]
    }
   ],
   "source": [
    "block_size = 3 # context length: how many characters do we take to predict the next one?\n",
    "\n",
    "def build_dataset(words):  \n",
    "  X, Y = [], []\n",
    "  for w in words:\n",
    "\n",
    "    #print(w)\n",
    "    context = [0] * block_size\n",
    "    for ch in w + '.':\n",
    "      ix = stoi[ch]\n",
    "      X.append(context)\n",
    "      Y.append(ix)\n",
    "      #print(''.join(itos[i] for i in context), '--->', itos[ix])\n",
    "      context = context[1:] + [ix] # crop and append\n",
    "\n",
    "  X = torch.tensor(X)\n",
    "  Y = torch.tensor(Y)\n",
    "  print(X.shape, Y.shape)\n",
    "  return X, Y\n",
    "\n",
    "# import random\n",
    "# random.seed(42)\n",
    "# random.shuffle(words)\n",
    "n1 = int(0.8*len(words))\n",
    "n2 = int(0.9*len(words))\n",
    "\n",
    "Xtr, Ytr = build_dataset([\"cab\"])\n",
    "Xdev, Ydev = build_dataset(words[n1:n2])\n",
    "Xte, Yte = build_dataset(words[n2:])"
   ]
  },
  {
   "cell_type": "code",
   "execution_count": 60,
   "metadata": {},
   "outputs": [],
   "source": [
    "g = torch.Generator().manual_seed(2147483647) # for reproducibility\n",
    "C = torch.randn((27, 10), generator=g)\n",
    "W1 = torch.randn((30, 100), generator=g)\n",
    "b1 = torch.randn(100, generator=g)\n",
    "W2 = torch.randn((100, 27), generator=g)\n",
    "b2 = torch.randn(27, generator=g)\n",
    "parameters = [C, W1, b1, W2, b2]\n",
    "for p in parameters:\n",
    "  p.requires_grad = True\n",
    "\n",
    "\n",
    "C1 = C.clone()"
   ]
  },
  {
   "cell_type": "code",
   "execution_count": 61,
   "metadata": {},
   "outputs": [],
   "source": [
    "lri = []\n",
    "lossi = []\n",
    "stepi = []"
   ]
  },
  {
   "cell_type": "code",
   "execution_count": 62,
   "metadata": {},
   "outputs": [],
   "source": [
    "import numpy as np\n",
    "\n",
    "\n",
    "initial_weights = [p.clone() for p in parameters]\n",
    "\n",
    "# List to store weight changes for visualization\n",
    "weight_changes = []\n",
    "\n",
    "for i in range(20000):\n",
    "  # minibatch construct\n",
    "  ix = torch.randint(0, Xtr.shape[0], (32,))\n",
    "  # forward pass\n",
    "  emb = C[Xtr] # (32, 3, 10)\n",
    "  h = torch.tanh(emb.view(-1, 6) @ W1) # (32, 200)\n",
    "  logits = h @ W2  # (32, 27)\n",
    "  loss = F.cross_entropy(logits, Ytr)\n",
    "  #print(loss.item())\n",
    "  \n",
    "  # backward pass\n",
    "  for p in parameters:\n",
    "    p.grad = None\n",
    "  loss.backward()\n",
    "  \n",
    "  # update\n",
    "  #lr = lrs[i]\n",
    "  lr = 0.1 if i < 100000 else 0.01\n",
    "  for p in parameters:\n",
    "    p.data += -lr * p.grad\n",
    "\n",
    "\n",
    "  # track stats\n",
    "  #lri.append(lre[i])\n",
    "  # stepi.append(i)\n",
    "  # lossi.append(loss.log10().item())"
   ]
  },
  {
   "cell_type": "code",
   "execution_count": 63,
   "metadata": {},
   "outputs": [],
   "source": [
    "%reload_ext tensorboard"
   ]
  },
  {
   "cell_type": "code",
   "execution_count": 64,
   "metadata": {},
   "outputs": [
    {
     "name": "stdout",
     "output_type": "stream",
     "text": [
      "warning: Embedding dir exists, did you set global_step for add_embedding()?\n"
     ]
    },
    {
     "data": {
      "text/html": [
       "\n",
       "      <iframe id=\"tensorboard-frame-c2cffc0f54a6b09a\" width=\"100%\" height=\"800\" frameborder=\"0\">\n",
       "      </iframe>\n",
       "      <script>\n",
       "        (function() {\n",
       "          const frame = document.getElementById(\"tensorboard-frame-c2cffc0f54a6b09a\");\n",
       "          const url = new URL(\"/\", window.location);\n",
       "          const port = 6006;\n",
       "          if (port) {\n",
       "            url.port = port;\n",
       "          }\n",
       "          frame.src = url;\n",
       "        })();\n",
       "      </script>\n",
       "    "
      ],
      "text/plain": [
       "<IPython.core.display.HTML object>"
      ]
     },
     "metadata": {},
     "output_type": "display_data"
    }
   ],
   "source": [
    "# Assuming you've already loaded your Jupyter notebook in VSCode and are ready to go\n",
    "\n",
    "# Import necessary libraries\n",
    "import torch\n",
    "from torch.utils.tensorboard import SummaryWriter\n",
    "\n",
    "# Load TensorBoard magic command in Jupyter\n",
    "\n",
    "# Create dummy embeddings and metadata for demonstration\n",
    "# Replace this with your actual embeddings if you have them\n",
    "#metadata = [f'Point {i}' for i in range(182625)]  # Just using a generic label here for demonstration\n",
    "metadata = [\"\".join([itos[idx] for idx in seq]) for seq in Xtr.tolist()]\n",
    "\n",
    "# Set up TensorBoard writer and add embeddings\n",
    "writer = SummaryWriter('runs/embeddings_demo_5')\n",
    "\n",
    "# Register the embeddings and the metadata\n",
    "writer.add_embedding(C[Xtr].view(-1,30), metadata=metadata, tag='my_30d_embeddings_5')\n",
    "\n",
    "writer.close()\n",
    "\n",
    "# Start TensorBoard within the notebook\n",
    "%tensorboard --logdir runs/embeddings_demo_5\n"
   ]
  },
  {
   "cell_type": "code",
   "execution_count": 65,
   "metadata": {},
   "outputs": [
    {
     "name": "stdout",
     "output_type": "stream",
     "text": [
      "warning: Embedding dir exists, did you set global_step for add_embedding()?\n"
     ]
    },
    {
     "data": {
      "text/plain": [
       "Reusing TensorBoard on port 6006 (pid 12272), started 0:23:48 ago. (Use '!kill 12272' to kill it.)"
      ]
     },
     "metadata": {},
     "output_type": "display_data"
    },
    {
     "data": {
      "text/html": [
       "\n",
       "      <iframe id=\"tensorboard-frame-d6c5658474429e4a\" width=\"100%\" height=\"800\" frameborder=\"0\">\n",
       "      </iframe>\n",
       "      <script>\n",
       "        (function() {\n",
       "          const frame = document.getElementById(\"tensorboard-frame-d6c5658474429e4a\");\n",
       "          const url = new URL(\"http://localhost\");\n",
       "          const port = 6006;\n",
       "          if (port) {\n",
       "            url.port = port;\n",
       "          }\n",
       "          frame.src = url;\n",
       "        })();\n",
       "      </script>\n",
       "    "
      ],
      "text/plain": [
       "<IPython.core.display.HTML object>"
      ]
     },
     "metadata": {},
     "output_type": "display_data"
    }
   ],
   "source": [
    "# Assuming you've already loaded your Jupyter notebook in VSCode and are ready to go\n",
    "\n",
    "# Import necessary libraries\n",
    "import torch\n",
    "from torch.utils.tensorboard import SummaryWriter\n",
    "\n",
    "# Load TensorBoard magic command in Jupyter\n",
    "\n",
    "# Create dummy embeddings and metadata for demonstration\n",
    "# Replace this with your actual embeddings if you have them\n",
    "#metadata = [f'Point {i}' for i in range(182625)]  # Just using a generic label here for demonstration\n",
    "metadata = [\"\".join([itos[idx] for idx in seq]) for seq in Xtr.tolist()]\n",
    "\n",
    "# Set up TensorBoard writer and add embeddings\n",
    "writer = SummaryWriter('runs/embeddings_demo_4')\n",
    "\n",
    "# Register the embeddings and the metadata\n",
    "writer.add_embedding(C1[Xtr].view(-1,30), metadata=metadata, tag='my_30d_embeddings_4')\n",
    "\n",
    "writer.close()\n",
    "\n",
    "# Start TensorBoard within the notebook\n",
    "%tensorboard --logdir runs/embeddings_demo_4\n"
   ]
  },
  {
   "cell_type": "code",
   "execution_count": 66,
   "metadata": {},
   "outputs": [
    {
     "data": {
      "text/plain": [
       "tensor([[ 0,  0,  0],\n",
       "        [ 0,  0, 25],\n",
       "        [ 0, 25, 21],\n",
       "        ...,\n",
       "        [15, 12,  4],\n",
       "        [12,  4,  1],\n",
       "        [ 4,  1, 14]])"
      ]
     },
     "execution_count": 66,
     "metadata": {},
     "output_type": "execute_result"
    }
   ],
   "source": [
    "Xtr\n"
   ]
  },
  {
   "cell_type": "code",
   "execution_count": 67,
   "metadata": {},
   "outputs": [
    {
     "data": {
      "text/plain": [
       "\"{'a': 1, 'b': 2, 'c': 3, 'd': 4, 'e': 5, 'f': 6, 'g': 7, 'h': 8, 'i': 9, 'j': 10, 'k': 11, 'l': 12, 'm': 13, 'n': 14, 'o': 15, 'p': 16, 'q': 17, 'r': 18, 's': 19, 't': 20, 'u': 21, 'v': 22, 'w': 23, 'x': 24, 'y': 25, 'z': 26, '.': 0}\""
      ]
     },
     "execution_count": 67,
     "metadata": {},
     "output_type": "execute_result"
    }
   ],
   "source": [
    "str(stoi)\n"
   ]
  },
  {
   "cell_type": "code",
   "execution_count": 68,
   "metadata": {},
   "outputs": [
    {
     "data": {
      "text/plain": [
       "tensor(2.3760, grad_fn=<NllLossBackward0>)"
      ]
     },
     "execution_count": 68,
     "metadata": {},
     "output_type": "execute_result"
    }
   ],
   "source": [
    "emb = C[Xtr] # (32, 3, 2)\n",
    "h = torch.tanh(emb.view(-1, 30) @ W1 + b1) # (32, 100)\n",
    "logits = h @ W2 + b2 # (32, 27)\n",
    "loss = F.cross_entropy(logits, Ytr)\n",
    "loss"
   ]
  },
  {
   "cell_type": "code",
   "execution_count": 69,
   "metadata": {},
   "outputs": [
    {
     "data": {
      "text/plain": [
       "tensor(2.3827, grad_fn=<NllLossBackward0>)"
      ]
     },
     "execution_count": 69,
     "metadata": {},
     "output_type": "execute_result"
    }
   ],
   "source": [
    "emb = C[Xdev] # (32, 3, 2)\n",
    "h = torch.tanh(emb.view(-1, 30) @ W1 + b1) # (32, 100)\n",
    "logits = h @ W2 + b2 # (32, 27)\n",
    "loss = F.cross_entropy(logits, Ydev)\n",
    "loss"
   ]
  },
  {
   "cell_type": "code",
   "execution_count": 70,
   "metadata": {},
   "outputs": [
    {
     "name": "stdout",
     "output_type": "stream",
     "text": [
      "... ---> m\n",
      "..m ---> o\n",
      ".mo ---> b\n",
      "mob ---> a\n",
      "oba ---> c\n",
      "bac ---> i\n",
      "aci ---> m\n",
      "cim ---> y\n",
      "imy ---> a\n",
      "mya ---> h\n",
      "yah ---> .\n",
      "mobacimyah.\n",
      "... ---> s\n",
      "..s ---> e\n",
      ".se ---> e\n",
      "see ---> .\n",
      "see.\n",
      "... ---> m\n",
      "..m ---> e\n",
      ".me ---> d\n",
      "med ---> .\n",
      "med.\n",
      "... ---> l\n",
      "..l ---> y\n",
      ".ly ---> l\n",
      "lyl ---> a\n",
      "yla ---> .\n",
      "lyla.\n",
      "... ---> l\n",
      "..l ---> e\n",
      ".le ---> v\n",
      "lev ---> e\n",
      "eve ---> r\n",
      "ver ---> .\n",
      "lever.\n",
      "... ---> j\n",
      "..j ---> e\n",
      ".je ---> n\n",
      "jen ---> d\n",
      "end ---> r\n",
      "ndr ---> a\n",
      "dra ---> r\n",
      "rar ---> i\n",
      "ari ---> .\n",
      "jendrari.\n",
      "... ---> l\n",
      "..l ---> e\n",
      ".le ---> e\n",
      "lee ---> .\n",
      "lee.\n",
      "... ---> e\n",
      "..e ---> d\n",
      ".ed ---> i\n",
      "edi ---> e\n",
      "die ---> l\n",
      "iel ---> i\n",
      "eli ---> e\n",
      "lie ---> l\n",
      "iel ---> l\n",
      "ell ---> y\n",
      "lly ---> y\n",
      "lyy ---> .\n",
      "edieliellyy.\n",
      "... ---> j\n",
      "..j ---> e\n",
      ".je ---> n\n",
      "jen ---> .\n",
      "jen.\n",
      "... ---> e\n",
      "..e ---> m\n",
      ".em ---> e\n",
      "eme ---> i\n",
      "mei ---> g\n",
      "eig ---> h\n",
      "igh ---> a\n",
      "gha ---> n\n",
      "han ---> a\n",
      "ana ---> n\n",
      "nan ---> a\n",
      "ana ---> r\n",
      "nar ---> a\n",
      "ara ---> e\n",
      "rae ---> l\n",
      "ael ---> y\n",
      "ely ---> n\n",
      "lyn ---> i\n",
      "yni ---> m\n",
      "nim ---> a\n",
      "ima ---> l\n",
      "mal ---> q\n",
      "alq ---> u\n",
      "lqu ---> a\n",
      "qua ---> .\n",
      "emeighananaraelynimalqua.\n",
      "... ---> n\n",
      "..n ---> o\n",
      ".no ---> s\n",
      "nos ---> a\n",
      "osa ---> l\n",
      "sal ---> e\n",
      "ale ---> e\n",
      "lee ---> r\n",
      "eer ---> i\n",
      "eri ---> s\n",
      "ris ---> h\n",
      "ish ---> i\n",
      "shi ---> a\n",
      "hia ---> n\n",
      "ian ---> e\n",
      "ane ---> l\n",
      "nel ---> .\n",
      "nosaleerishianel.\n",
      "... ---> j\n",
      "..j ---> e\n",
      ".je ---> n\n",
      "jen ---> i\n",
      "eni ---> e\n",
      "nie ---> .\n",
      "jenie.\n",
      "... ---> j\n",
      "..j ---> e\n",
      ".je ---> l\n",
      "jel ---> i\n",
      "eli ---> e\n",
      "lie ---> n\n",
      "ien ---> n\n",
      "enn ---> .\n",
      "jelienn.\n",
      "... ---> c\n",
      "..c ---> o\n",
      ".co ---> l\n",
      "col ---> a\n",
      "ola ---> n\n",
      "lan ---> u\n",
      "anu ---> .\n",
      "colanu.\n",
      "... ---> z\n",
      "..z ---> e\n",
      ".ze ---> n\n",
      "zen ---> g\n",
      "eng ---> e\n",
      "nge ---> .\n",
      "zenge.\n",
      "... ---> r\n",
      "..r ---> e\n",
      ".re ---> y\n",
      "rey ---> a\n",
      "eya ---> h\n",
      "yah ---> l\n",
      "ahl ---> i\n",
      "hli ---> z\n",
      "liz ---> e\n",
      "ize ---> l\n",
      "zel ---> a\n",
      "ela ---> .\n",
      "reyahlizela.\n",
      "... ---> l\n",
      "..l ---> a\n",
      ".la ---> e\n",
      "lae ---> .\n",
      "lae.\n",
      "... ---> m\n",
      "..m ---> i\n",
      ".mi ---> s\n",
      "mis ---> t\n",
      "ist ---> e\n",
      "ste ---> y\n",
      "tey ---> a\n",
      "eya ---> h\n",
      "yah ---> .\n",
      "misteyah.\n",
      "... ---> h\n",
      "..h ---> i\n",
      ".hi ---> l\n",
      "hil ---> i\n",
      "ili ---> a\n",
      "lia ---> a\n",
      "iaa ---> .\n",
      "hiliaa.\n",
      "... ---> y\n",
      "..y ---> a\n",
      ".ya ---> y\n",
      "yay ---> s\n",
      "ays ---> y\n",
      "ysy ---> n\n",
      "syn ---> .\n",
      "yaysyn.\n"
     ]
    }
   ],
   "source": [
    "g = torch.Generator().manual_seed(2147483647 + 10)\n",
    "\n",
    "for _ in range(20):\n",
    "    \n",
    "    out = []\n",
    "    context = [0] * block_size # initialize with all ...\n",
    "    while True:\n",
    "      emb = C[torch.tensor([context])] # (1,block_size,d)\n",
    "      h = torch.tanh(emb.view(1, -1) @ W1 + b1)\n",
    "      logits = h @ W2 + b2\n",
    "      probs = F.softmax(logits, dim=1)\n",
    "      ix = torch.multinomial(probs, num_samples=1, generator=g).item()\n",
    "      print(''.join(itos[i] for i in context), '--->', itos[ix])\n",
    "      context = context[1:] + [ix]\n",
    "      out.append(ix)\n",
    "      if ix == 0:\n",
    "        break\n",
    "    \n",
    "    print(''.join(itos[i] for i in out))"
   ]
  }
 ],
 "metadata": {
  "kernelspec": {
   "display_name": ".venv",
   "language": "python",
   "name": "python3"
  },
  "language_info": {
   "codemirror_mode": {
    "name": "ipython",
    "version": 3
   },
   "file_extension": ".py",
   "mimetype": "text/x-python",
   "name": "python",
   "nbconvert_exporter": "python",
   "pygments_lexer": "ipython3",
   "version": "3.11.0"
  }
 },
 "nbformat": 4,
 "nbformat_minor": 2
}
