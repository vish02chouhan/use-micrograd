{
 "cells": [
  {
   "cell_type": "code",
   "execution_count": 1,
   "metadata": {},
   "outputs": [],
   "source": [
    "import torch\n",
    "import torch.nn.functional as F\n",
    "import matplotlib.pyplot as plt # for making figures\n",
    "%matplotlib inline"
   ]
  },
  {
   "cell_type": "code",
   "execution_count": 3,
   "metadata": {},
   "outputs": [
    {
     "data": {
      "text/plain": [
       "['emma', 'olivia', 'ava', 'isabella', 'sophia', 'charlotte', 'mia', 'amelia']"
      ]
     },
     "execution_count": 3,
     "metadata": {},
     "output_type": "execute_result"
    }
   ],
   "source": [
    "# read in all the words\n",
    "words = open('../../names.txt', 'r').read().splitlines()\n",
    "words[:8]"
   ]
  },
  {
   "cell_type": "code",
   "execution_count": 4,
   "metadata": {},
   "outputs": [
    {
     "name": "stdout",
     "output_type": "stream",
     "text": [
      "{1: 'a', 2: 'b', 3: 'c', 4: 'd', 5: 'e', 6: 'f', 7: 'g', 8: 'h', 9: 'i', 10: 'j', 11: 'k', 12: 'l', 13: 'm', 14: 'n', 15: 'o', 16: 'p', 17: 'q', 18: 'r', 19: 's', 20: 't', 21: 'u', 22: 'v', 23: 'w', 24: 'x', 25: 'y', 26: 'z', 0: '.'}\n"
     ]
    }
   ],
   "source": [
    "# build the vocabulary of characters and mappings to/from integers\n",
    "chars = sorted(list(set(''.join(words))))\n",
    "stoi = {s:i+1 for i,s in enumerate(chars)}\n",
    "stoi['.'] = 0\n",
    "itos = {i:s for s,i in stoi.items()}\n",
    "print(itos)"
   ]
  },
  {
   "cell_type": "code",
   "execution_count": 5,
   "metadata": {},
   "outputs": [
    {
     "name": "stdout",
     "output_type": "stream",
     "text": [
      "... ---> e 0\n",
      "..e ---> m 1\n",
      ".em ---> m 2\n",
      "emm ---> a 3\n",
      "mma ---> . 4\n"
     ]
    }
   ],
   "source": [
    "block_size = 3 # context length: how many characters do we take to predict the next one?\n",
    "X, Y = [], []\n",
    "i = 0\n",
    "for w in words[:1]:\n",
    "  \n",
    "  #print(w)\n",
    "  context = [0] * block_size\n",
    "  #emma.\n",
    "  for ch in w + '.':\n",
    "    ix = stoi[ch]\n",
    "    X.append(context)\n",
    "    Y.append(ix)\n",
    "    print(''.join(itos[i] for i in context), '--->', itos[ix], i)\n",
    "    i += 1\n",
    "    # print(context[1:])\n",
    "    context = context[1:] + [ix] # crop and append\n",
    "  \n",
    "X = torch.tensor(X)\n",
    "Y = torch.tensor(Y)\n"
   ]
  },
  {
   "cell_type": "code",
   "execution_count": 6,
   "metadata": {},
   "outputs": [
    {
     "data": {
      "text/plain": [
       "tensor([[-0.0358,  0.9751],\n",
       "        [-1.3551,  0.3211],\n",
       "        [-0.3383, -0.3053],\n",
       "        [ 0.3312, -0.6555],\n",
       "        [ 3.8037, -1.1861],\n",
       "        [-0.2769, -1.0644],\n",
       "        [-0.0129,  0.7722],\n",
       "        [ 0.7306, -0.9381],\n",
       "        [ 0.0317,  0.7082],\n",
       "        [ 1.5498,  1.5240],\n",
       "        [-0.5409, -2.0644],\n",
       "        [ 1.3196,  1.2500],\n",
       "        [-0.7715,  0.5750],\n",
       "        [-0.9387, -0.3992],\n",
       "        [-1.9826,  1.2555],\n",
       "        [-0.3090, -1.4190],\n",
       "        [ 0.2484,  0.4469],\n",
       "        [-1.6602, -0.4108],\n",
       "        [-0.1236,  0.7230],\n",
       "        [ 0.1622, -0.5683],\n",
       "        [-1.8920, -0.3803],\n",
       "        [-0.4831,  1.0059],\n",
       "        [ 0.8610,  2.2072],\n",
       "        [-0.9057, -2.3275],\n",
       "        [ 0.5025,  0.2818],\n",
       "        [ 0.2214,  0.4553],\n",
       "        [ 1.3321,  0.9106]])"
      ]
     },
     "execution_count": 6,
     "metadata": {},
     "output_type": "execute_result"
    }
   ],
   "source": [
    "C = torch.randn(27,2)\n",
    "C"
   ]
  },
  {
   "cell_type": "code",
   "execution_count": null,
   "metadata": {},
   "outputs": [],
   "source": [
    "import torch\n",
    "\n",
    "#print(C)\n",
    "# X - ..a - [0,0,1] ->\n",
    "# print(C[[0,0,1]])\n",
    "# print(C[X][13])\n",
    "#print(C[X][18])\n",
    "C[X]"
   ]
  },
  {
   "cell_type": "code",
   "execution_count": null,
   "metadata": {},
   "outputs": [],
   "source": [
    "emb = C[X][0:1]\n",
    "print(emb.view(-1, 6)) \n",
    "W1 = torch.randn((6, 27))\n",
    "W1"
   ]
  },
  {
   "cell_type": "code",
   "execution_count": null,
   "metadata": {},
   "outputs": [],
   "source": [
    "emb.view(-1, 6) @ W1"
   ]
  }
 ],
 "metadata": {
  "kernelspec": {
   "display_name": ".venv",
   "language": "python",
   "name": "python3"
  },
  "language_info": {
   "codemirror_mode": {
    "name": "ipython",
    "version": 3
   },
   "file_extension": ".py",
   "mimetype": "text/x-python",
   "name": "python",
   "nbconvert_exporter": "python",
   "pygments_lexer": "ipython3",
   "version": "3.11.0"
  }
 },
 "nbformat": 4,
 "nbformat_minor": 2
}
