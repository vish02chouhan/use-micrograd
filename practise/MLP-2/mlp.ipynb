{
 "cells": [
  {
   "cell_type": "code",
   "execution_count": null,
   "metadata": {},
   "outputs": [],
   "source": [
    "import torch\n",
    "import torch.nn.functional as F\n",
    "import matplotlib.pyplot as plt # for making figures\n",
    "%matplotlib inline"
   ]
  },
  {
   "cell_type": "code",
   "execution_count": null,
   "metadata": {},
   "outputs": [],
   "source": [
    "# read in all the words\n",
    "words = open('../../names.txt', 'r').read().splitlines()\n",
    "words[:8]"
   ]
  },
  {
   "cell_type": "code",
   "execution_count": null,
   "metadata": {},
   "outputs": [],
   "source": [
    "# build the vocabulary of characters and mappings to/from integers\n",
    "chars = sorted(list(set(''.join(words))))\n",
    "stoi = {s:i+1 for i,s in enumerate(chars)}\n",
    "stoi['.'] = 0\n",
    "itos = {i:s for s,i in stoi.items()}\n",
    "print(itos)"
   ]
  },
  {
   "cell_type": "code",
   "execution_count": 11,
   "metadata": {},
   "outputs": [
    {
     "name": "stdout",
     "output_type": "stream",
     "text": [
      "... ---> e 0\n",
      "..e ---> m 1\n",
      ".em ---> m 2\n",
      "emm ---> a 3\n",
      "mma ---> . 4\n",
      "... ---> o 5\n",
      "..o ---> l 6\n",
      ".ol ---> i 7\n",
      "oli ---> v 8\n",
      "liv ---> i 9\n",
      "ivi ---> a 10\n",
      "via ---> . 11\n",
      "... ---> a 12\n",
      "..a ---> v 13\n",
      ".av ---> a 14\n",
      "ava ---> . 15\n",
      "... ---> i 16\n",
      "..i ---> s 17\n",
      ".is ---> a 18\n",
      "isa ---> b 19\n",
      "sab ---> e 20\n",
      "abe ---> l 21\n",
      "bel ---> l 22\n",
      "ell ---> a 23\n",
      "lla ---> . 24\n",
      "... ---> s 25\n",
      "..s ---> o 26\n",
      ".so ---> p 27\n",
      "sop ---> h 28\n",
      "oph ---> i 29\n",
      "phi ---> a 30\n",
      "hia ---> . 31\n"
     ]
    }
   ],
   "source": [
    "block_size = 3 # context length: how many characters do we take to predict the next one?\n",
    "X, Y = [], []\n",
    "i = 0\n",
    "for w in words[:5]:\n",
    "  \n",
    "  #print(w)\n",
    "  context = [0] * block_size\n",
    "  #emma.\n",
    "  for ch in w + '.':\n",
    "    ix = stoi[ch]\n",
    "    X.append(context)\n",
    "    Y.append(ix)\n",
    "    print(''.join(itos[i] for i in context), '--->', itos[ix], i)\n",
    "    i += 1\n",
    "    # print(context[1:])\n",
    "    context = context[1:] + [ix] # crop and append\n",
    "  \n",
    "X = torch.tensor(X)\n",
    "Y = torch.tensor(Y)\n"
   ]
  },
  {
   "cell_type": "code",
   "execution_count": 18,
   "metadata": {},
   "outputs": [],
   "source": [
    "C = torch.randn(27,2)"
   ]
  },
  {
   "cell_type": "code",
   "execution_count": 29,
   "metadata": {},
   "outputs": [
    {
     "name": "stdout",
     "output_type": "stream",
     "text": [
      "tensor([ 0.4950, -0.3561])\n"
     ]
    }
   ],
   "source": [
    "import torch\n",
    "\n",
    "#print(C)\n",
    "# X - ..a - [0,0,1] ->\n",
    "# print(C[[0,0,1]])\n",
    "# print(C[X][13])\n",
    "#print(C[X][18])\n",
    "print(C[X][19,2])\n",
    "\n",
    "\n",
    "\n",
    "\n"
   ]
  },
  {
   "cell_type": "code",
   "execution_count": null,
   "metadata": {},
   "outputs": [],
   "source": []
  }
 ],
 "metadata": {
  "kernelspec": {
   "display_name": ".venv",
   "language": "python",
   "name": "python3"
  },
  "language_info": {
   "codemirror_mode": {
    "name": "ipython",
    "version": 3
   },
   "file_extension": ".py",
   "mimetype": "text/x-python",
   "name": "python",
   "nbconvert_exporter": "python",
   "pygments_lexer": "ipython3",
   "version": "3.11.0"
  }
 },
 "nbformat": 4,
 "nbformat_minor": 2
}
