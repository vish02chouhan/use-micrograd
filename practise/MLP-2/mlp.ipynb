{
 "cells": [
  {
   "cell_type": "code",
   "execution_count": 1,
   "metadata": {},
   "outputs": [],
   "source": [
    "import torch\n",
    "import torch.nn.functional as F\n",
    "import matplotlib.pyplot as plt # for making figures\n",
    "%matplotlib inline"
   ]
  },
  {
   "cell_type": "code",
   "execution_count": 2,
   "metadata": {},
   "outputs": [
    {
     "name": "stdout",
     "output_type": "stream",
     "text": [
      "0.006737946999085467 0.006738\n",
      "0.01831563888873418 0.018316\n",
      "0.36787944117144233 0.367879\n",
      "2.718281828459045 2.718282\n",
      "7.38905609893065 7.389056\n",
      "20.085536923187668 20.085537\n",
      "1 [0.00022029651876588293, 0.0005988280238340865, 0.012027782383359052, 0.08887395877636983, 0.2415844671650244, 0.6566946671326467]\n",
      "0.951229424500714 0.951229\n",
      "0.9607894391523232 0.960789\n",
      "0.9900498337491681 0.990050\n",
      "1.010050167084168 1.010050\n",
      "1.0202013400267558 1.020201\n",
      "1.030454533953517 1.030455\n",
      "0.01 [0.159527982562247, 0.16113126544159784, 0.16603844303596213, 0.1693926420812447, 0.1710950664369899, 0.1728146004419585]\n"
     ]
    }
   ],
   "source": [
    "import numpy as np\n",
    "\n",
    "for i in [1, .01]:\n",
    "    arr = [-5, -4, -1, 1 ,2 ,3]\n",
    "\n",
    "    for item,n in enumerate(arr):\n",
    "        arr[item] = n * i\n",
    "\n",
    "    arr1 = np.exp(arr)\n",
    "    arr_sum = sum(arr1)\n",
    "\n",
    "    for item in arr1:\n",
    "        print(item,f\"%6f\"%item)\n",
    "\n",
    "    prob = []\n",
    "    for item in arr1:\n",
    "        prob.append(item/arr_sum)\n",
    "    \n",
    "    print(i,prob)\n"
   ]
  },
  {
   "cell_type": "code",
   "execution_count": 3,
   "metadata": {},
   "outputs": [
    {
     "ename": "SyntaxError",
     "evalue": "invalid decimal literal (1846199488.py, line 1)",
     "output_type": "error",
     "traceback": [
      "\u001b[1;36m  Cell \u001b[1;32mIn[3], line 1\u001b[1;36m\u001b[0m\n\u001b[1;33m    exp_num =  1.00e**-31\u001b[0m\n\u001b[1;37m                  ^\u001b[0m\n\u001b[1;31mSyntaxError\u001b[0m\u001b[1;31m:\u001b[0m invalid decimal literal\n"
     ]
    }
   ],
   "source": [
    "exp_num =  1.00e**-31"
   ]
  },
  {
   "cell_type": "code",
   "execution_count": 4,
   "metadata": {},
   "outputs": [
    {
     "data": {
      "text/plain": [
       "array([6.73794700e-03, 1.83156389e-02, 3.67879441e-01, 2.71828183e+00,\n",
       "       7.38905610e+00, 2.00855369e+01])"
      ]
     },
     "execution_count": 4,
     "metadata": {},
     "output_type": "execute_result"
    }
   ],
   "source": [
    "\n",
    "\n",
    "np.exp([-5, -4, -1, 1 ,2 ,3])\n",
    "\n"
   ]
  },
  {
   "cell_type": "code",
   "execution_count": 5,
   "metadata": {},
   "outputs": [
    {
     "name": "stdout",
     "output_type": "stream",
     "text": [
      "0.0183156389\n"
     ]
    }
   ],
   "source": [
    "print(1.83156389e-02)"
   ]
  },
  {
   "cell_type": "code",
   "execution_count": 2,
   "metadata": {},
   "outputs": [],
   "source": [
    "# read in all the words\n",
    "words = open('../../names.txt', 'r').read().splitlines()"
   ]
  },
  {
   "cell_type": "code",
   "execution_count": 3,
   "metadata": {},
   "outputs": [
    {
     "name": "stdout",
     "output_type": "stream",
     "text": [
      "{1: 'a', 2: 'b', 3: 'c', 4: 'd', 5: 'e', 6: 'f', 7: 'g', 8: 'h', 9: 'i', 10: 'j', 11: 'k', 12: 'l', 13: 'm', 14: 'n', 15: 'o', 16: 'p', 17: 'q', 18: 'r', 19: 's', 20: 't', 21: 'u', 22: 'v', 23: 'w', 24: 'x', 25: 'y', 26: 'z', 0: '.'}\n"
     ]
    }
   ],
   "source": [
    "# build the vocabulary of characters and mappings to/from integers\n",
    "chars = sorted(list(set(''.join(words))))\n",
    "stoi = {s:i+1 for i,s in enumerate(chars)}\n",
    "stoi['.'] = 0\n",
    "itos = {i:s for s,i in stoi.items()}\n",
    "print(itos)"
   ]
  },
  {
   "cell_type": "code",
   "execution_count": 6,
   "metadata": {},
   "outputs": [
    {
     "name": "stdout",
     "output_type": "stream",
     "text": [
      "torch.Size([182778, 3]) torch.Size([182778])\n",
      "torch.Size([22633, 3]) torch.Size([22633])\n",
      "torch.Size([22735, 3]) torch.Size([22735])\n"
     ]
    }
   ],
   "source": [
    "block_size = 3 # context length: how many characters do we take to predict the next one?\n",
    "\n",
    "def build_dataset(words):  \n",
    "  X, Y = [], []\n",
    "  for w in words:\n",
    "\n",
    "    #print(w)\n",
    "    context = [0] * block_size\n",
    "    for ch in w + '.':\n",
    "      ix = stoi[ch]\n",
    "      X.append(context)\n",
    "      Y.append(ix)\n",
    "      #print(''.join(itos[i] for i in context), '--->', itos[ix])\n",
    "      context = context[1:] + [ix] # crop and append\n",
    "\n",
    "  X = torch.tensor(X)\n",
    "  Y = torch.tensor(Y)\n",
    "  print(X.shape, Y.shape)\n",
    "  return X, Y\n",
    "\n",
    "# import random\n",
    "# random.seed(42)\n",
    "# random.shuffle(words)\n",
    "n1 = int(0.8*len(words))\n",
    "n2 = int(0.9*len(words))\n",
    "\n",
    "Xtr, Ytr = build_dataset(words[:n1])\n",
    "Xdev, Ydev = build_dataset(words[n1:n2])\n",
    "Xte, Yte = build_dataset(words[n2:])"
   ]
  },
  {
   "cell_type": "code",
   "execution_count": 7,
   "metadata": {},
   "outputs": [],
   "source": [
    "g = torch.Generator().manual_seed(2147483647) # for reproducibility\n",
    "C = torch.randn((27, 5), generator=g)\n",
    "W1 = torch.randn((15, 100), generator=g)\n",
    "b1 = torch.randn(100, generator=g)\n",
    "W2 = torch.randn((100, 27), generator=g)\n",
    "b2 = torch.randn(27, generator=g)\n",
    "parameters = [C, W1, W2]\n",
    "for p in parameters:\n",
    "  p.requires_grad = True\n"
   ]
  },
  {
   "cell_type": "code",
   "execution_count": 8,
   "metadata": {},
   "outputs": [],
   "source": [
    "lri = []\n",
    "lossi = []\n",
    "stepi = []"
   ]
  },
  {
   "cell_type": "code",
   "execution_count": 9,
   "metadata": {},
   "outputs": [
    {
     "data": {
      "text/plain": [
       "tensor([[ 0,  0,  0],\n",
       "        [ 0,  0,  5],\n",
       "        [ 0,  5, 13],\n",
       "        ...,\n",
       "        [ 1, 13,  9],\n",
       "        [13,  9, 18],\n",
       "        [ 9, 18, 18]])"
      ]
     },
     "execution_count": 9,
     "metadata": {},
     "output_type": "execute_result"
    }
   ],
   "source": [
    "Xtr"
   ]
  },
  {
   "cell_type": "code",
   "execution_count": 10,
   "metadata": {},
   "outputs": [],
   "source": [
    "import numpy as np\n",
    "\n",
    "# List to store weight changes for visualization\n",
    "weight_changes = []\n",
    "\n",
    "for i in range(1000):\n",
    "  # minibatch construct\n",
    "  ix = torch.randint(0, Xtr.shape[0], (32,))\n",
    "  # forward pass\n",
    "  emb = C[Xtr] # (32, 3, 10)\n",
    "  h = torch.tanh(emb.view(-1, 15) @ W1) # (32, 200)\n",
    "  logits = h @ W2  # (32, 27)\n",
    "  loss = F.cross_entropy(logits, Ytr)\n",
    "  #print(loss.item())\n",
    "  \n",
    "  # backward pass\n",
    "  for p in parameters:\n",
    "    p.grad = None\n",
    "  loss.backward()\n",
    "  \n",
    "  # update\n",
    "  #lr = lrs[i]\n",
    "  lr = 0.1 if i < 100000 else 0.01\n",
    "  for p in parameters:\n",
    "    p.data += -lr * p.grad\n",
    "\n",
    "\n",
    "  # track stats\n",
    "  #lri.append(lre[i])\n",
    "  # stepi.append(i)\n",
    "  # lossi.append(loss.log10().item())"
   ]
  },
  {
   "cell_type": "code",
   "execution_count": 13,
   "metadata": {},
   "outputs": [],
   "source": [
    "%reload_ext tensorboard"
   ]
  },
  {
   "cell_type": "code",
   "execution_count": 15,
   "metadata": {},
   "outputs": [
    {
     "name": "stdout",
     "output_type": "stream",
     "text": [
      "warning: Embedding dir exists, did you set global_step for add_embedding()?\n"
     ]
    },
    {
     "data": {
      "text/html": [
       "\n",
       "      <iframe id=\"tensorboard-frame-36ea4303cad48b24\" width=\"100%\" height=\"800\" frameborder=\"0\">\n",
       "      </iframe>\n",
       "      <script>\n",
       "        (function() {\n",
       "          const frame = document.getElementById(\"tensorboard-frame-36ea4303cad48b24\");\n",
       "          const url = new URL(\"/\", window.location);\n",
       "          const port = 6006;\n",
       "          if (port) {\n",
       "            url.port = port;\n",
       "          }\n",
       "          frame.src = url;\n",
       "        })();\n",
       "      </script>\n",
       "    "
      ],
      "text/plain": [
       "<IPython.core.display.HTML object>"
      ]
     },
     "metadata": {},
     "output_type": "display_data"
    }
   ],
   "source": [
    "# Assuming you've already loaded your Jupyter notebook in VSCode and are ready to go\n",
    "\n",
    "# Import necessary libraries\n",
    "import torch\n",
    "from torch.utils.tensorboard import SummaryWriter\n",
    "\n",
    "# Load TensorBoard magic command in Jupyter\n",
    "\n",
    "# Create dummy embeddings and metadata for demonstration\n",
    "# Replace this with your actual embeddings if you have them\n",
    "#metadata = [f'Point {i}' for i in range(182625)]  # Just using a generic label here for demonstration\n",
    "metadata = [\"\".join([itos[idx] for idx in seq]) for seq in Xtr.tolist()]\n",
    "\n",
    "# Set up TensorBoard writer and add embeddings\n",
    "writer = SummaryWriter('runs/embeddings_demo')\n",
    "\n",
    "# Register the embeddings and the metadata\n",
    "writer.add_embedding(C[Xtr].view(-1,15), metadata=metadata, tag='my_30d_embeddings')\n",
    "\n",
    "writer.close()\n",
    "\n",
    "# Start TensorBoard within the notebook\n",
    "%tensorboard --logdir runs/embeddings_demo_6\n"
   ]
  },
  {
   "cell_type": "code",
   "execution_count": null,
   "metadata": {},
   "outputs": [],
   "source": [
    "# Assuming you've already loaded your Jupyter notebook in VSCode and are ready to go\n",
    "\n",
    "# Import necessary libraries\n",
    "import torch\n",
    "from torch.utils.tensorboard import SummaryWriter\n",
    "\n",
    "# Load TensorBoard magic command in Jupyter\n",
    "\n",
    "# Create dummy embeddings and metadata for demonstration\n",
    "# Replace this with your actual embeddings if you have them\n",
    "#metadata = [f'Point {i}' for i in range(182625)]  # Just using a generic label here for demonstration\n",
    "metadata = [\"\".join([itos[idx] for idx in seq]) for seq in Xtr.tolist()]\n",
    "\n",
    "# Set up TensorBoard writer and add embeddings\n",
    "writer = SummaryWriter('runs/embeddings_demo_4')\n",
    "\n",
    "# Register the embeddings and the metadata\n",
    "writer.add_embedding(C1[Xtr].view(-1,30), metadata=metadata, tag='my_30d_embeddings_4')\n",
    "\n",
    "writer.close()\n",
    "\n",
    "# Start TensorBoard within the notebook\n",
    "%tensorboard --logdir runs/embeddings_demo_4\n"
   ]
  },
  {
   "cell_type": "code",
   "execution_count": null,
   "metadata": {},
   "outputs": [],
   "source": [
    "Xtr\n"
   ]
  },
  {
   "cell_type": "code",
   "execution_count": null,
   "metadata": {},
   "outputs": [],
   "source": [
    "str(stoi)\n"
   ]
  },
  {
   "cell_type": "code",
   "execution_count": null,
   "metadata": {},
   "outputs": [],
   "source": [
    "emb = C[Xtr] # (32, 3, 2)\n",
    "h = torch.tanh(emb.view(-1, 30) @ W1 + b1) # (32, 100)\n",
    "logits = h @ W2 + b2 # (32, 27)\n",
    "loss = F.cross_entropy(logits, Ytr)\n",
    "loss"
   ]
  },
  {
   "cell_type": "code",
   "execution_count": null,
   "metadata": {},
   "outputs": [],
   "source": [
    "emb = C[Xdev] # (32, 3, 2)\n",
    "h = torch.tanh(emb.view(-1, 30) @ W1 + b1) # (32, 100)\n",
    "logits = h @ W2 + b2 # (32, 27)\n",
    "loss = F.cross_entropy(logits, Ydev)\n",
    "loss"
   ]
  },
  {
   "cell_type": "code",
   "execution_count": null,
   "metadata": {},
   "outputs": [],
   "source": [
    "g = torch.Generator().manual_seed(2147483647 + 10)\n",
    "\n",
    "for _ in range(20):\n",
    "    \n",
    "    out = []\n",
    "    context = [0] * block_size # initialize with all ...\n",
    "    while True:\n",
    "      emb = C[torch.tensor([context])] # (1,block_size,d)\n",
    "      h = torch.tanh(emb.view(1, -1) @ W1 + b1)\n",
    "      logits = h @ W2 + b2\n",
    "      probs = F.softmax(logits, dim=1)\n",
    "      ix = torch.multinomial(probs, num_samples=1, generator=g).item()\n",
    "      print(''.join(itos[i] for i in context), '--->', itos[ix])\n",
    "      context = context[1:] + [ix]\n",
    "      out.append(ix)\n",
    "      if ix == 0:\n",
    "        break\n",
    "    \n",
    "    print(''.join(itos[i] for i in out))"
   ]
  }
 ],
 "metadata": {
  "kernelspec": {
   "display_name": ".venv",
   "language": "python",
   "name": "python3"
  },
  "language_info": {
   "codemirror_mode": {
    "name": "ipython",
    "version": 3
   },
   "file_extension": ".py",
   "mimetype": "text/x-python",
   "name": "python",
   "nbconvert_exporter": "python",
   "pygments_lexer": "ipython3",
   "version": "3.11.5"
  }
 },
 "nbformat": 4,
 "nbformat_minor": 2
}
