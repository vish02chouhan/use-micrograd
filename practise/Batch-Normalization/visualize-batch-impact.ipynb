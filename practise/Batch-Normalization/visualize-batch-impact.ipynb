{
 "cells": [
  {
   "cell_type": "code",
   "execution_count": 94,
   "metadata": {},
   "outputs": [
    {
     "name": "stdout",
     "output_type": "stream",
     "text": [
      "torch.Size([182625, 3]) torch.Size([182625])\n",
      "torch.Size([22655, 3]) torch.Size([22655])\n",
      "torch.Size([22866, 3]) torch.Size([22866])\n"
     ]
    }
   ],
   "source": [
    "import torch\n",
    "import torch.nn.functional as F\n",
    "import matplotlib.pyplot as plt # for making figures\n",
    "%matplotlib inline\n",
    "words = open('../../names.txt', 'r').read().splitlines()\n",
    "chars = sorted(list(set(''.join(words))))\n",
    "stoi = {s:i+1 for i,s in enumerate(chars)}\n",
    "stoi['.'] = 0\n",
    "itos = {i:s for s,i in stoi.items()}\n",
    "vocab_size = len(itos)\n",
    "block_size = 3 # context length: how many characters do we take to predict the next one?\n",
    "\n",
    "def build_dataset(words):  \n",
    "  X, Y = [], []\n",
    "  \n",
    "  for w in words:\n",
    "    context = [0] * block_size\n",
    "    for ch in w + '.':\n",
    "      ix = stoi[ch]\n",
    "      X.append(context)\n",
    "      Y.append(ix)\n",
    "      context = context[1:] + [ix] # crop and append\n",
    "\n",
    "  X = torch.tensor(X)\n",
    "  Y = torch.tensor(Y)\n",
    "  print(X.shape, Y.shape)\n",
    "  return X, Y\n",
    "\n",
    "import random\n",
    "random.seed(42)\n",
    "random.shuffle(words)\n",
    "n1 = int(0.8*len(words))\n",
    "n2 = int(0.9*len(words))\n",
    "\n",
    "Xtr,  Ytr  = build_dataset(words[:n1])     # 80%\n",
    "Xdev, Ydev = build_dataset(words[n1:n2])   # 10%\n",
    "Xte,  Yte  = build_dataset(words[n2:]) "
   ]
  },
  {
   "cell_type": "code",
   "execution_count": 95,
   "metadata": {},
   "outputs": [
    {
     "name": "stdout",
     "output_type": "stream",
     "text": [
      "12097\n"
     ]
    }
   ],
   "source": [
    "n_embd = 10 # the dimensionality of the character embedding vectors\n",
    "n_hidden = 200 # the number of neurons in the hidden layer of the MLP\n",
    "\n",
    "g = torch.Generator().manual_seed(2147483647) # for reproducibility\n",
    "C  = torch.randn((vocab_size, n_embd),            generator=g)\n",
    "W1 = torch.randn((n_embd * block_size, n_hidden), generator=g) * (5/3)/((n_embd * block_size)**0.5) #* 0.2\n",
    "#W1 = torch.randn((n_embd * block_size, n_hidden), generator=g) * .2\n",
    "#b1 = torch.randn(n_hidden,                        generator=g) * 0.01\n",
    "W2 = torch.randn((n_hidden, vocab_size),          generator=g) * 0.01\n",
    "b2 = torch.randn(vocab_size,                      generator=g) * 0\n",
    "\n",
    "# BatchNorm parameters\n",
    "bngain = torch.ones((1, n_hidden))\n",
    "bnbias = torch.zeros((1, n_hidden))\n",
    "bnmean_running = torch.zeros((1, n_hidden))\n",
    "bnstd_running = torch.ones((1, n_hidden))\n",
    "\n",
    "parameters = [C, W1, W2, b2, bngain, bnbias]\n",
    "print(sum(p.nelement() for p in parameters)) # number of parameters in total\n",
    "for p in parameters:\n",
    "  p.requires_grad = True"
   ]
  },
  {
   "cell_type": "code",
   "execution_count": 96,
   "metadata": {},
   "outputs": [
    {
     "name": "stdout",
     "output_type": "stream",
     "text": [
      "      0/ 200000: 3.3239\n"
     ]
    }
   ],
   "source": [
    "max_steps = 200000\n",
    "batch_size = 32\n",
    "lossi = []\n",
    "\n",
    "for i in range(10):\n",
    "  \n",
    "  # minibatch construct\n",
    "  ix = torch.randint(0, Xtr.shape[0], (batch_size,), generator=g)\n",
    "  Xb, Yb = Xtr[ix], Ytr[ix] # batch X,Y\n",
    "  \n",
    "  # forward pass\n",
    "  emb = C[Xb] # embed the characters into vectors\n",
    "  embcat = emb.view(emb.shape[0], -1) # concatenate the vectors\n",
    "  # Linear layer\n",
    "  hpreact = embcat @ W1  #+ b1 # hidden layer pre-activation\n",
    "  # BatchNorm layer\n",
    "  # -------------------------------------------------------------\n",
    "  bnmeani = hpreact.mean(0, keepdim=True)\n",
    "  bnstdi = hpreact.std(0, keepdim=True)\n",
    "  hpreact1 = bngain * (hpreact - bnmeani) / bnstdi + bnbias\n",
    "  \n",
    "  with torch.no_grad():\n",
    "    bnmean_running = 0.999 * bnmean_running + 0.001 * bnmeani\n",
    "    bnstd_running = 0.999 * bnstd_running + 0.001 * bnstdi\n",
    "  # -------------------------------------------------------------\n",
    "  # Non-linearity\n",
    "  h = torch.tanh(hpreact1) # hidden layer\n",
    "  logits = h @ W2 + b2 # output layer\n",
    "  loss = F.cross_entropy(logits, Yb) # loss function\n",
    "  \n",
    "  # backward pass\n",
    "  for p in parameters:\n",
    "    p.grad = None\n",
    "  loss.backward()\n",
    "  \n",
    "  # update\n",
    "  lr = 0.1 if i < 100000 else 0.01 # step learning rate decay\n",
    "  for p in parameters:\n",
    "    p.data += -lr * p.grad\n",
    "\n",
    "  # track stats\n",
    "  if i % 10000 == 0: # print every once in a while\n",
    "    print(f'{i:7d}/{max_steps:7d}: {loss.item():.4f}')\n",
    "  lossi.append(loss.log10().item())"
   ]
  },
  {
   "cell_type": "code",
   "execution_count": 99,
   "metadata": {},
   "outputs": [
    {
     "data": {
      "text/plain": [
       "tensor([[-8.3022e-04,  2.8436e-03,  7.5748e-04, -1.2532e-03,  1.8060e-03,\n",
       "          7.4958e-04,  3.8155e-04, -5.7934e-04,  1.9510e-03,  1.2351e-03,\n",
       "         -1.1636e-03,  2.4252e-03, -2.7925e-05,  1.2173e-03, -6.4847e-04,\n",
       "         -1.1563e-03,  2.2941e-03,  2.8483e-04, -1.9071e-03,  2.1225e-03,\n",
       "          7.7311e-04,  1.5842e-03, -7.0111e-04, -1.6864e-03,  6.3860e-04,\n",
       "          2.2649e-04,  3.5112e-04, -4.1968e-04,  3.0978e-04, -1.5282e-03,\n",
       "          5.4467e-04, -1.0083e-03, -1.5767e-04, -1.5740e-03,  2.1849e-03,\n",
       "          4.0400e-04,  3.8938e-03,  1.1417e-03,  7.2118e-05, -1.2634e-03,\n",
       "         -1.7090e-03, -3.1570e-04,  7.2111e-04,  1.5205e-04, -2.3437e-04,\n",
       "          3.1936e-04, -1.4578e-03,  6.6501e-04,  1.5635e-03, -2.7168e-03,\n",
       "         -2.0321e-03, -2.2622e-04, -2.1008e-03, -1.4070e-03, -4.4478e-03,\n",
       "          4.6786e-04,  1.0359e-03,  3.7095e-04, -4.2625e-03, -1.6165e-04,\n",
       "          1.0836e-03, -1.7837e-03, -1.4272e-03,  1.3013e-03,  1.3420e-03,\n",
       "          4.7858e-04,  3.1355e-04,  3.8765e-04,  1.5485e-04,  1.9590e-03,\n",
       "          1.1640e-03,  4.0588e-04, -3.0202e-03,  1.0589e-03,  2.6451e-03,\n",
       "         -2.1773e-04, -5.7245e-04,  1.1150e-03, -1.2734e-03, -7.2448e-04,\n",
       "         -1.3863e-03,  8.7202e-04, -2.1081e-04,  1.6838e-04,  6.9025e-06,\n",
       "          2.3799e-03, -1.2538e-05,  7.5489e-04, -1.6569e-03, -3.9251e-04,\n",
       "         -2.0251e-03,  3.1318e-04, -2.6728e-03,  1.7169e-03, -9.9484e-05,\n",
       "          3.1895e-04,  8.9773e-04, -4.3803e-04,  2.7409e-03,  6.2589e-04,\n",
       "          2.7209e-03,  1.4154e-03,  1.3074e-03, -3.1212e-03, -1.6594e-03,\n",
       "         -2.7308e-04, -2.2665e-05,  9.4039e-05,  1.5069e-03,  2.9005e-03,\n",
       "          1.1169e-03, -2.1051e-03,  1.2617e-03,  1.2382e-03,  2.0110e-03,\n",
       "         -8.1752e-04,  1.9464e-03, -3.2289e-04, -1.2461e-03,  2.9993e-04,\n",
       "          2.5029e-03,  2.7114e-03, -7.3859e-04,  4.4110e-04, -1.8647e-03,\n",
       "         -6.3408e-04, -1.1338e-03,  7.9370e-04,  4.4935e-04,  4.2914e-04,\n",
       "         -1.0623e-03, -1.5006e-03,  1.5488e-03,  1.7342e-04,  2.5567e-03,\n",
       "          2.5875e-05, -9.5586e-04,  1.7349e-03, -1.7139e-03,  9.0057e-04,\n",
       "         -3.1748e-04, -1.5912e-03, -3.0003e-04,  9.5492e-04, -1.1417e-03,\n",
       "          2.7082e-04, -5.6547e-04,  2.2287e-03, -1.0211e-03, -9.6168e-04,\n",
       "          7.8589e-04, -9.3874e-04, -5.5227e-04,  2.5092e-04,  3.3590e-03,\n",
       "          6.7398e-04, -1.8150e-03,  2.1339e-03,  9.4985e-04, -2.2345e-04,\n",
       "         -1.4968e-03, -2.9800e-03,  1.4940e-03,  9.8278e-04, -1.0926e-03,\n",
       "         -1.6349e-03,  1.1445e-03,  2.2886e-03,  1.2438e-03, -1.4270e-03,\n",
       "         -1.3361e-03, -2.7663e-03, -1.3854e-03, -5.6640e-04, -3.2361e-03,\n",
       "         -2.1748e-03,  1.5387e-03,  2.2535e-03,  3.6364e-03,  4.7291e-04,\n",
       "         -6.2232e-04,  9.3694e-04, -9.0755e-05, -8.6046e-05, -1.9512e-04,\n",
       "         -2.2510e-03, -2.6027e-04,  3.3758e-04,  1.8626e-03, -1.2362e-03,\n",
       "         -2.1245e-03, -9.8286e-05, -1.9312e-03,  9.0220e-04,  1.2912e-03,\n",
       "         -2.5641e-04, -1.2769e-03, -8.9543e-04, -7.0103e-04,  1.6217e-03]],\n",
       "       requires_grad=True)"
      ]
     },
     "execution_count": 99,
     "metadata": {},
     "output_type": "execute_result"
    }
   ],
   "source": [
    "bnbias"
   ]
  },
  {
   "cell_type": "code",
   "execution_count": null,
   "metadata": {},
   "outputs": [],
   "source": [
    "max(hpreact[0]),min(hpreact[0]),max(hpreact1[0]),min(hpreact1[0])"
   ]
  },
  {
   "cell_type": "code",
   "execution_count": null,
   "metadata": {},
   "outputs": [],
   "source": [
    "import matplotlib.pyplot as plt\n",
    "import torch\n",
    "import torch.nn.functional as F\n",
    "\n",
    "# Your code to get hprev, h, logits, and probs\n",
    "# ...\n",
    "\n",
    "# Convert the tensors to NumPy and flatten them for histogram plotting\n",
    "hprev_numpy = hpreact.detach().numpy().flatten()\n",
    "hprev1_numpy = hpreact1.detach().numpy().flatten()\n",
    "h_mean = hpreact.mean(0, keepdim=True).detach().numpy().flatten()\n",
    "h_mean_sub = (hpreact - hpreact.mean(0, keepdim=True)).detach().numpy().flatten()\n",
    "\n",
    "# Create a figure with 2x2 grid of axes\n",
    "fig, axs = plt.subplots(2, 2, figsize=(20, 16))\n",
    "\n",
    "# Plot histogram for hprev\n",
    "axs[0, 0].hist(hprev_numpy, bins=50, color='blue', alpha=0.7)\n",
    "axs[0, 0].set_title('Histogram of hprev values')\n",
    "axs[0, 0].set_xlabel('Value')\n",
    "axs[0, 0].set_ylabel('Frequency')\n",
    "\n",
    "axs[0, 1].hist(hprev1_numpy, bins=50, color='blue', alpha=0.7)\n",
    "axs[0, 1].set_title('Histogram of hprev values')\n",
    "axs[0, 1].set_xlabel('Value')\n",
    "axs[0, 1].set_ylabel('Frequency')\n",
    "\n",
    "axs[1, 0].hist(h_mean, bins=50, color='blue', alpha=0.7)\n",
    "axs[1, 0].set_title('Histogram of hmean values')\n",
    "axs[1, 0].set_xlabel('Value')\n",
    "axs[1, 0].set_ylabel('Frequency')\n",
    "\n",
    "axs[1, 1].hist(h_mean_sub, bins=50, color='blue', alpha=0.7)\n",
    "axs[1, 1].set_title('Histogram of h_mean_sub values')\n",
    "axs[1, 1].set_xlabel('Value')\n",
    "axs[1, 1].set_ylabel('Frequency')\n",
    "\n"
   ]
  },
  {
   "cell_type": "code",
   "execution_count": null,
   "metadata": {},
   "outputs": [],
   "source": [
    "import matplotlib.pyplot as plt\n",
    "import numpy as np\n",
    "from sklearn.preprocessing import MinMaxScaler\n",
    "\n",
    "# Generating a synthetic non-normalized dataset that could represent a real-world scenario\n",
    "# For instance, this could represent ages (20 to 70 years) and incomes (20k to 120k dollars)\n",
    "np.random.seed(0)  # For reproducibility\n",
    "ages = np.random.randint(20, 70, 100)\n",
    "incomes = np.random.randint(20000, 120000, 100)\n",
    "\n",
    "#10- 20000\n",
    "#.1 - .3\n",
    "\n",
    "# Plotting the non-normalized data\n",
    "plt.figure(figsize=(12, 6))\n",
    "\n",
    "plt.subplot(1, 2, 1)\n",
    "plt.scatter(ages, incomes)\n",
    "plt.title('Non-normalized Data')\n",
    "plt.xlabel('Age')\n",
    "plt.ylabel('Income ($)')\n",
    "\n",
    "# Normalizing the data\n",
    "scaler = MinMaxScaler()\n",
    "data = np.column_stack((ages, incomes))\n",
    "normalized_data = scaler.fit_transform(data)\n",
    "\n",
    "# Plotting the normalized data\n",
    "plt.subplot(1, 2, 2)\n",
    "plt.scatter(normalized_data[:, 0], normalized_data[:, 1])\n",
    "plt.title('Normalized Data')\n",
    "plt.xlabel('Age (normalized)')\n",
    "plt.ylabel('Income (normalized)')\n",
    "\n",
    "# Display the plots\n",
    "plt.tight_layout()\n",
    "plt.show()\n"
   ]
  }
 ],
 "metadata": {
  "kernelspec": {
   "display_name": ".venv",
   "language": "python",
   "name": "python3"
  },
  "language_info": {
   "codemirror_mode": {
    "name": "ipython",
    "version": 3
   },
   "file_extension": ".py",
   "mimetype": "text/x-python",
   "name": "python",
   "nbconvert_exporter": "python",
   "pygments_lexer": "ipython3",
   "version": "3.11.0"
  }
 },
 "nbformat": 4,
 "nbformat_minor": 2
}
