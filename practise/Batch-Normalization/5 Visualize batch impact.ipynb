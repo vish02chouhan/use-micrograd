{
 "cells": [
  {
   "cell_type": "code",
   "execution_count": 3,
   "metadata": {},
   "outputs": [
    {
     "data": {
      "text/plain": [
       "['l',\n",
       " 'v',\n",
       " 'f',\n",
       " 'o',\n",
       " 'c',\n",
       " 'b',\n",
       " 'd',\n",
       " 'r',\n",
       " 'i',\n",
       " 'e',\n",
       " 'u',\n",
       " 'm',\n",
       " 'k',\n",
       " 'w',\n",
       " 't',\n",
       " 'q',\n",
       " 'j',\n",
       " 'p',\n",
       " 's',\n",
       " 'h',\n",
       " 'n',\n",
       " 'x',\n",
       " 'a',\n",
       " 'g',\n",
       " 'z',\n",
       " 'y']"
      ]
     },
     "execution_count": 3,
     "metadata": {},
     "output_type": "execute_result"
    }
   ],
   "source": [
    "import os\n",
    "\n",
    "names = open('../../names.txt','r').read().splitlines()\n",
    "vocab = sorted(list(set(''.join(names))))\n",
    "itos = {i:c for i,c in enumerate(vocab)}"
   ]
  }
 ],
 "metadata": {
  "kernelspec": {
   "display_name": "venv",
   "language": "python",
   "name": "python3"
  },
  "language_info": {
   "codemirror_mode": {
    "name": "ipython",
    "version": 3
   },
   "file_extension": ".py",
   "mimetype": "text/x-python",
   "name": "python",
   "nbconvert_exporter": "python",
   "pygments_lexer": "ipython3",
   "version": "3.11.5"
  }
 },
 "nbformat": 4,
 "nbformat_minor": 2
}
