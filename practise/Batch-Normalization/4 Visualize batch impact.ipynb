{
 "cells": [
  {
   "cell_type": "code",
   "execution_count": null,
   "metadata": {},
   "outputs": [],
   "source": [
    "import torch\n",
    "import torch.nn as nn\n",
    "\n",
    "# Define the neural network class\n",
    "class NeuralNetwork(nn.Module):\n",
    "    def __init__(self):\n",
    "        super(NeuralNetwork, self).__init__()\n",
    "        self.fc1 = nn.Linear(784, 128)  # Input layer (784 nodes) to hidden layer (128 nodes)\n",
    "        self.fc2 = nn.Linear(128, 64)   # Hidden layer (128 nodes) to hidden layer (64 nodes)\n",
    "        self.fc3 = nn.Linear(64, 10)    # Hidden layer (64 nodes) to output layer (10 nodes)\n",
    "\n",
    "    def forward(self, x):\n",
    "        x = torch.flatten(x, 1)         # Flatten the input tensor\n",
    "        x = torch.relu(self.fc1(x))     # Apply ReLU activation to the first hidden layer\n",
    "        x = torch.relu(self.fc2(x))     # Apply ReLU activation to the second hidden layer\n",
    "        x = self.fc3(x)                 # Output layer (no activation function)\n",
    "        return x\n",
    "\n",
    "# Create an instance of the neural network\n",
    "model = NeuralNetwork()\n",
    "\n",
    "# Print the model architecture\n",
    "print(model)\n",
    "\n"
   ]
  },
  {
   "cell_type": "code",
   "execution_count": null,
   "metadata": {},
   "outputs": [],
   "source": []
  }
 ],
 "metadata": {
  "language_info": {
   "name": "python"
  }
 },
 "nbformat": 4,
 "nbformat_minor": 2
}
