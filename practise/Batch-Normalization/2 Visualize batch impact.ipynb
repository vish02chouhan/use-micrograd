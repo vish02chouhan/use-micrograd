{
 "cells": [
  {
   "cell_type": "code",
   "execution_count": null,
   "metadata": {},
   "outputs": [],
   "source": [
    "import torch\n",
    "import torch.nn.functional as F\n",
    "import matplotlib.pyplot as plt # for making figures\n",
    "import sys\n",
    "sys.path.append('../../')\n",
    "from helpers import graphs\n",
    "%matplotlib inline\n",
    "words = open('../../names.txt', 'r').read().splitlines()\n",
    "chars = sorted(list(set(''.join(words))))\n",
    "stoi = {s:i+1 for i,s in enumerate(chars)}\n",
    "stoi['.'] = 0\n",
    "itos = {i:s for s,i in stoi.items()}\n",
    "vocab_size = len(itos)\n",
    "block_size = 3 # context length: how many characters do we take to predict the next one?\n",
    "\n",
    "def build_dataset(words):  \n",
    "  X, Y = [], []\n",
    "  \n",
    "  for w in words:\n",
    "    context = [0] * block_size\n",
    "    for ch in w + '.':\n",
    "      ix = stoi[ch]\n",
    "      X.append(context)\n",
    "      Y.append(ix)\n",
    "      context = context[1:] + [ix] # crop and append\n",
    "\n",
    "  X = torch.tensor(X)\n",
    "  Y = torch.tensor(Y)\n",
    "  print(X.shape, Y.shape)\n",
    "  return X, Y\n",
    "\n",
    "import random\n",
    "random.seed(42)\n",
    "random.shuffle(words)\n",
    "n1 = int(0.8*len(words))\n",
    "n2 = int(0.9*len(words))\n",
    "\n",
    "Xtr,  Ytr  = build_dataset(words[:n1])     # 80%\n",
    "Xdev, Ydev = build_dataset(words[n1:n2])   # 10%\n",
    "Xte,  Yte  = build_dataset(words[n2:]) "
   ]
  },
  {
   "cell_type": "code",
   "execution_count": null,
   "metadata": {},
   "outputs": [],
   "source": [
    "# MLP revisited\n",
    "n_embd = 10 # the dimensionality of the character embedding vectors\n",
    "n_hidden = 200 # the number of neurons in the hidden layer of the MLP\n",
    "\n",
    "g = torch.Generator().manual_seed(2147483647) # for reproducibility\n",
    "C  = torch.randn((vocab_size, n_embd),            generator=g)\n",
    "W1 = torch.randn((n_embd * block_size, n_hidden), generator=g)* (5/3)/((n_embd * block_size)**0.5) #* 0.2\n",
    "#b1 = torch.randn(n_hidden,                        generator=g) * 0.01\n",
    "W2 = torch.randn((n_hidden, vocab_size),          generator=g) * 0.01\n",
    "b2 = torch.randn(vocab_size,                      generator=g) * 0\n",
    "\n",
    "# BatchNorm parameters\n",
    "bngain = torch.ones((1, n_hidden))\n",
    "bnbias = torch.zeros((1, n_hidden))\n",
    "bnmean_running = torch.zeros((1, n_hidden))\n",
    "bnstd_running = torch.ones((1, n_hidden))\n",
    "\n",
    "parameters = [C, W1, W2, b2, bngain, bnbias]\n",
    "print(sum(p.nelement() for p in parameters)) # number of parameters in total\n",
    "for p in parameters:\n",
    "  p.requires_grad = True"
   ]
  },
  {
   "cell_type": "code",
   "execution_count": null,
   "metadata": {},
   "outputs": [],
   "source": [
    "bngain.shape"
   ]
  },
  {
   "cell_type": "code",
   "execution_count": null,
   "metadata": {},
   "outputs": [],
   "source": [
    "import numpy as np\n",
    "def print_emb(emb, i):\n",
    "    emb_np = emb.detach().numpy()\n",
    "\n",
    "    # Set numpy print options for better formatting (optional)\n",
    "    np.set_printoptions(precision=4, suppress=True)\n",
    "\n",
    "    # Print the emb tensor\n",
    "    print(f\"Batch {i} embeddings:\")\n",
    "    print(emb_np)"
   ]
  },
  {
   "cell_type": "code",
   "execution_count": null,
   "metadata": {},
   "outputs": [],
   "source": [
    "# same optimization as last time\n",
    "#hidden layer neurons 200\n",
    "#bngain [1,1,----1] size 200\n",
    "#0 -> 200 , \n",
    "#1 ->200\n",
    "#32 -> 200\n",
    "max_steps = 200000\n",
    "batch_size = 32\n",
    "lossi = []\n",
    "\n",
    "for i in range(1):\n",
    "  \n",
    "  # minibatch construct\n",
    "  ix = torch.randint(0, Xtr.shape[0], (batch_size,), generator=g)\n",
    "  Xb, Yb = Xtr[ix], Ytr[ix] # batch X,Y\n",
    "  \n",
    "  # forward pass\n",
    "  emb = C[Xb] # embed the characters into vectors\n",
    "  embcat = emb.view(emb.shape[0], -1) # concatenate the vectors\n",
    "  # Linear layer\n",
    "  hpreact = embcat @ W1 #+ b1 # hidden layer pre-activation\n",
    "  # BatchNorm layer\n",
    "  # -------------------------------------------------------------\n",
    "  bnmeani = hpreact.mean(0, keepdim=True)\n",
    "  bnstdi = hpreact.std(0, keepdim=True)\n",
    "  normalized_values = (hpreact - bnmeani) / bnstdi\n",
    "  hpreact_n = bngain * normalized_values + bnbias\n",
    "  # with torch.no_grad():\n",
    "  #   bnmean_running = 0.999 * bnmean_running + 0.001 * bnmeani\n",
    "  #   bnstd_running = 0.999 * bnstd_running + 0.001 * bnstdi\n",
    "  # -------------------------------------------------------------\n",
    "  # Non-linearity\n",
    "  h = torch.tanh(hpreact_n) # hidden layer\n",
    "  logits = h @ W2 + b2 # output layer\n",
    "  loss = F.cross_entropy(logits, Yb) # loss function\n",
    "  \n",
    "  # backward pass\n",
    "  for p in parameters:\n",
    "    p.grad = None\n",
    "  loss.backward()\n",
    "  \n",
    "  # update\n",
    "  lr = 0.1 if i < 100000 else 0.01 # step learning rate decay\n",
    "  for p in parameters:\n",
    "    p.data += -lr * p.grad\n",
    "\n",
    "  # track stats\n",
    "  # if i % 10000 == 0: # print every once in a while\n",
    "  #   print(f'{i:7d}/{max_steps:7d}: {loss.item():.4f}')\n",
    "  # lossi.append(loss.log10().item())"
   ]
  },
  {
   "cell_type": "code",
   "execution_count": null,
   "metadata": {},
   "outputs": [],
   "source": [
    "bngain"
   ]
  },
  {
   "cell_type": "code",
   "execution_count": null,
   "metadata": {},
   "outputs": [],
   "source": [
    "normalized_values[0].size(), normalized_values[:,0].size()"
   ]
  },
  {
   "cell_type": "code",
   "execution_count": null,
   "metadata": {},
   "outputs": [],
   "source": [
    "Xb.size(), emb.size(), embcat.size(), hpreact.size(), bnmeani.size()"
   ]
  },
  {
   "cell_type": "code",
   "execution_count": null,
   "metadata": {},
   "outputs": [],
   "source": [
    "graphs.four_graphs(hpreact, hpreact_n, h )"
   ]
  },
  {
   "cell_type": "code",
   "execution_count": null,
   "metadata": {},
   "outputs": [],
   "source": [
    "graphs.four_graphs(hpreact, hpreact_n, h )"
   ]
  },
  {
   "cell_type": "code",
   "execution_count": null,
   "metadata": {},
   "outputs": [],
   "source": [
    "from math import log\n",
    "\n",
    "\n",
    "arr = np.arange(1, 10000)\n",
    "log_series = np.log(arr)\n",
    "log_series"
   ]
  },
  {
   "cell_type": "code",
   "execution_count": null,
   "metadata": {},
   "outputs": [],
   "source": [
    "plt.plot(arr, log_series, marker='o')\n",
    "plt.title('Logarithmic Graph of the Series')\n",
    "plt.xlabel('Data Series')\n",
    "plt.ylabel('Log of Series')\n",
    "plt.grid(True)\n",
    "plt.show()"
   ]
  },
  {
   "cell_type": "code",
   "execution_count": null,
   "metadata": {},
   "outputs": [],
   "source": [
    "import numpy as np\n",
    "import pandas as pd\n",
    "\n",
    "# 1) Create a data series which has right-skewed data\n",
    "np.random.seed(0)\n",
    "# Generating a right-skewed dataset using the chi-square distribution\n",
    "data = np.random.chisquare(2, 1000)\n",
    "data_series = pd.Series(data)\n",
    "\n",
    "# 2) Calculate mean and median of the above data series\n",
    "original_mean = data_series.mean()\n",
    "original_median = data_series.median()\n",
    "\n",
    "# 3) Now transform data series into log of data series\n",
    "log_data_series = np.log(data_series)\n",
    "\n",
    "# 4) Calculate mean and median of log data series\n",
    "log_mean = log_data_series.mean()\n",
    "log_median = log_data_series.median()\n",
    "\n",
    "(original_mean, original_median, log_mean, log_median)\n"
   ]
  },
  {
   "cell_type": "code",
   "execution_count": null,
   "metadata": {},
   "outputs": [],
   "source": [
    "np.log([5,10,15,20,25])"
   ]
  },
  {
   "cell_type": "code",
   "execution_count": null,
   "metadata": {},
   "outputs": [],
   "source": [
    "np.mean([1.60943791, 2.30258509, 2.7080502 , 2.99573227, 3.21887582]), np.mean([5,10,15,20,25])"
   ]
  },
  {
   "cell_type": "code",
   "execution_count": null,
   "metadata": {},
   "outputs": [],
   "source": [
    "np.median([1.60943791, 2.30258509, 2.7080502 , 2.99573227, 3.21887582]), np.median([5,10,15,20,25])"
   ]
  },
  {
   "cell_type": "code",
   "execution_count": null,
   "metadata": {},
   "outputs": [],
   "source": [
    "#32 [...]\n",
    "#[...] -> [.2,.3,-2........................10] - 30\n",
    "\n",
    "#N1-N200 = [.2,.1,-1, ---------------------- 3]\n",
    "[.2,.1,-1, ---------------------- 20]\n",
    "[.2,.1,-1, ---------------------- 3]\n",
    "[.2,.1,-1, ---------------------- 3]\n",
    "\n",
    "#hpreact = [20,.3,-2,.2..........]\n",
    "arr = 5,10,15,20,25,30,35,45,1000\n",
    "\n",
    "std = np.std(arr)\n",
    "mean = np.mean(arr)\n",
    "\n",
    "nor = []\n",
    "for item in arr:\n",
    "    nor.append( ((item-mean)/std))\n",
    "\n",
    "nor,mean,std"
   ]
  },
  {
   "cell_type": "code",
   "execution_count": null,
   "metadata": {},
   "outputs": [],
   "source": [
    "np.tanh(nor)"
   ]
  },
  {
   "cell_type": "code",
   "execution_count": null,
   "metadata": {},
   "outputs": [],
   "source": [
    "std_all = 0\n",
    "result = []\n",
    "for item in arr:\n",
    "    std_all += (mean-item)**2\n",
    "    result.append(((mean-item)**2)**.5)\n",
    "\n",
    "std_all = std_all/len(arr)\n",
    "\n",
    "std_all, std_all**.5, result\n",
    "\n",
    "#arr = 5,10,15,20,25,30,35,45"
   ]
  },
  {
   "cell_type": "code",
   "execution_count": null,
   "metadata": {},
   "outputs": [],
   "source": [
    "import torch\n",
    "a = torch.tensor(1.0)\n",
    "b = torch.tensor(2.0)\n",
    "w1 = torch.tensor(.25)\n",
    "ypred = a*w1\n",
    "loss = (b-ypred)**2"
   ]
  },
  {
   "cell_type": "code",
   "execution_count": null,
   "metadata": {},
   "outputs": [],
   "source": [
    "w1 = torch.tensor(2.5)\n",
    "\n",
    "\n",
    "torch.randn(27,100)"
   ]
  },
  {
   "cell_type": "code",
   "execution_count": null,
   "metadata": {},
   "outputs": [],
   "source": [
    "import numpy as np\n",
    "arr = [ 1,2,3,4,5,1000]\n",
    "\n",
    "np.std(arr), np.mean(arr)"
   ]
  },
  {
   "cell_type": "code",
   "execution_count": null,
   "metadata": {},
   "outputs": [],
   "source": [
    "import torch\n",
    "\n",
    "x1 = torch.tensor(.1, requires_grad=True)\n",
    "w1 = torch.tensor(.2, requires_grad=True)\n",
    "\n",
    "a = x1*w1 # 0.0036\n",
    "b = torch.tensor(1.0, requires_grad=True) #-0.0792\n",
    "\n",
    "c = a * b # grad = -3.1274\n",
    "#c = a\n",
    "d = torch.tanh(c) #- grad = -3.4174\n",
    "loss = (2 - d)**2\n",
    "a.retain_grad()\n",
    "c.retain_grad()\n",
    "d.retain_grad()\n",
    "loss.retain_grad()\n",
    "\n",
    "\n",
    "loss.backward()\n",
    "\n",
    "\n",
    "print(a.grad,b.grad, c.grad, d.grad, loss.grad)"
   ]
  },
  {
   "cell_type": "code",
   "execution_count": null,
   "metadata": {},
   "outputs": [],
   "source": [
    "preact = torch.tensor([[ 1,  2,  3,  4,  5],\n",
    "                        [ 6,  7,  8,  9, 10],\n",
    "                        [11, 12, 13, 14, 15]]).float()\n",
    "\n",
    "\n",
    "\n",
    "bngain =  torch.ones(1,5) + 1\n",
    "bnbias =  torch.zeros(1,5)\n",
    "\n",
    "\n",
    "bnmeani = preact.mean(0, keepdim=True)\n",
    "bnstdi = preact.std(0, keepdim=True)\n",
    "normalized_values = (preact - bnmeani) / bnstdi\n",
    "hpreact_n = bngain * normalized_values + bnbias"
   ]
  },
  {
   "cell_type": "code",
   "execution_count": null,
   "metadata": {},
   "outputs": [],
   "source": [
    "bngain, normalized_values,  bngain * normalized_values"
   ]
  },
  {
   "cell_type": "code",
   "execution_count": 36,
   "metadata": {},
   "outputs": [
    {
     "data": {
      "text/plain": [
       "(tensor([[ 0.9882,  0.0204, -0.2034,  0.5162, -0.3274],\n",
       "         [-0.2217, -0.5508,  0.4483,  0.7680,  0.0035],\n",
       "         [ 0.3299,  1.7604,  0.9046,  0.8267,  0.8850]]),\n",
       " tensor([[1., 1., 1., 1., 1.],\n",
       "         [1., 1., 1., 1., 1.],\n",
       "         [1., 1., 1., 1., 1.],\n",
       "         [1., 1., 1., 1., 1.],\n",
       "         [1., 1., 1., 1., 1.]]))"
      ]
     },
     "execution_count": 36,
     "metadata": {},
     "output_type": "execute_result"
    }
   ],
   "source": [
    "preact = torch.randn(3,5)\n",
    "\n",
    "W2 =  torch.ones(5,5)\n",
    "bnbias =  torch.zeros(1,5)\n",
    "preact, bngain\n",
    "\n",
    "# bnmeani = preact.mean(0, keepdim=True)\n",
    "# bnstdi = preact.std(0, keepdim=True)\n",
    "# normalized_values = (preact - bnmeani) / bnstdi\n",
    "# hpreact_n = bngain * normalized_values + bnbias"
   ]
  },
  {
   "cell_type": "code",
   "execution_count": 38,
   "metadata": {},
   "outputs": [
    {
     "data": {
      "text/plain": [
       "tensor([[0.9940, 0.9940, 0.9940, 0.9940, 0.9940],\n",
       "        [0.4471, 0.4471, 0.4471, 0.4471, 0.4471],\n",
       "        [4.7067, 4.7067, 4.7067, 4.7067, 4.7067]])"
      ]
     },
     "execution_count": 38,
     "metadata": {},
     "output_type": "execute_result"
    }
   ],
   "source": [
    "example = torch.rand(5,4)"
   ]
  }
 ],
 "metadata": {
  "kernelspec": {
   "display_name": ".venv",
   "language": "python",
   "name": "python3"
  },
  "language_info": {
   "codemirror_mode": {
    "name": "ipython",
    "version": 3
   },
   "file_extension": ".py",
   "mimetype": "text/x-python",
   "name": "python",
   "nbconvert_exporter": "python",
   "pygments_lexer": "ipython3",
   "version": "3.11.5"
  }
 },
 "nbformat": 4,
 "nbformat_minor": 2
}
