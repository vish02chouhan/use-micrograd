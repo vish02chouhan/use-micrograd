{
 "cells": [
  {
   "cell_type": "code",
   "execution_count": 2,
   "metadata": {},
   "outputs": [
    {
     "data": {
      "text/plain": [
       "'Digraph.gv.pdf'"
      ]
     },
     "execution_count": 2,
     "metadata": {},
     "output_type": "execute_result"
    }
   ],
   "source": [
    "import torch\n",
    "from torchviz import make_dot\n",
    "\n",
    "x = torch.randn(1, requires_grad=True)\n",
    "y = x**2\n",
    "z = y**3\n",
    "\n",
    "dot = make_dot(z)\n",
    "dot.view()  # This will create a .pdf visualization of the graph\n"
   ]
  },
  {
   "cell_type": "code",
   "execution_count": 3,
   "metadata": {},
   "outputs": [
    {
     "name": "stdout",
     "output_type": "stream",
     "text": [
      " <MeanBackward0 object at 0x00000232C973CF10>\n",
      "   <MulBackward0 object at 0x00000232C96CBD60>\n",
      "     <AccumulateGrad object at 0x00000232C96CBD90>\n"
     ]
    }
   ],
   "source": [
    "def print_graph(g, indent=''):\n",
    "    print(indent, g)\n",
    "    for next_g in g.next_functions:\n",
    "        if next_g[0] is not None:\n",
    "            print_graph(next_g[0], indent + '  ')\n",
    "\n",
    "x = torch.tensor([1.0, 2.0], requires_grad=True)\n",
    "y = x * 2\n",
    "z = y.mean()\n",
    "print_graph(z.grad_fn)\n"
   ]
  }
 ],
 "metadata": {
  "kernelspec": {
   "display_name": ".venv",
   "language": "python",
   "name": "python3"
  },
  "language_info": {
   "codemirror_mode": {
    "name": "ipython",
    "version": 3
   },
   "file_extension": ".py",
   "mimetype": "text/x-python",
   "name": "python",
   "nbconvert_exporter": "python",
   "pygments_lexer": "ipython3",
   "version": "3.11.0"
  }
 },
 "nbformat": 4,
 "nbformat_minor": 2
}
