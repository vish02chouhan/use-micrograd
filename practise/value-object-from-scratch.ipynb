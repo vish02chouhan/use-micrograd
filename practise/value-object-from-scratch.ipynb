{
 "cells": [
  {
   "cell_type": "code",
   "execution_count": null,
   "metadata": {},
   "outputs": [],
   "source": [
    "def trace(root):\n",
    "    node = []\n",
    "    \n",
    "\n",
    "\n",
    "def draw_dot(root):\n",
    "\n",
    "    nodes = \n",
    "\n"
   ]
  },
  {
   "cell_type": "code",
   "execution_count": 3,
   "metadata": {},
   "outputs": [],
   "source": [
    "from queue import Queue\n",
    "class Value:\n",
    "\n",
    "    def __init__(self, data, children = (), _op = \"\", label = \"\"):\n",
    "        self.data = data\n",
    "        self._next = set(children)\n",
    "        self._op =  _op\n",
    "        self.label = label\n",
    "        self.grad = 0\n",
    "        self.backward = lambda: None\n",
    "\n",
    "\n",
    "    def __add__(self, other):\n",
    "        other = other if isinstance(other, Value) else Value(other)\n",
    "\n",
    "        out = Value(self.data + other.data, (self, other),\"+\")\n",
    "        def _backward():\n",
    "\n",
    "            self.grad += 1*out.grad\n",
    "            other.grad += 1*out.grad\n",
    "\n",
    "        out.backward = _backward\n",
    "\n",
    "        return out\n",
    "    \n",
    "    def __mul__(self, other):\n",
    "        other = other if isinstance(other, Value) else Value(other)\n",
    "\n",
    "        out = Value(self.data + other.data, (self, other),\"+\")\n",
    "        def _backward(self, other):\n",
    "\n",
    "            self.grad = other.grad * out.grad\n",
    "            other.grad = self.grad * out.grad\n",
    "\n",
    "        out.backward = _backward\n",
    "        \n",
    "        return out\n",
    "    \n",
    "    def backward(self):\n",
    "        nodes = [self]\n",
    "\n",
    "        while nodes:\n",
    "            current = nodes.pop()\n",
    "            for n in current._prev:\n",
    "                nodes.append(n)\n",
    "\n",
    "            current.backward()\n",
    "    \n",
    "    def __repr__(self) -> str:\n",
    "        return f\"Value(data= {self.data})\"\n",
    "    \n",
    "\n"
   ]
  },
  {
   "cell_type": "code",
   "execution_count": 5,
   "metadata": {},
   "outputs": [],
   "source": [
    "a = Value(2)\n",
    "b = Value(-3)\n",
    "c = Value(10)\n",
    "\n",
    "d = a*b\n",
    "e = d + c\n",
    "\n",
    "f = Value(-2)\n",
    "\n",
    "L = d*f"
   ]
  },
  {
   "cell_type": "code",
   "execution_count": null,
   "metadata": {},
   "outputs": [],
   "source": [
    "L.backward()"
   ]
  }
 ],
 "metadata": {
  "kernelspec": {
   "display_name": ".venv",
   "language": "python",
   "name": "python3"
  },
  "language_info": {
   "codemirror_mode": {
    "name": "ipython",
    "version": 3
   },
   "file_extension": ".py",
   "mimetype": "text/x-python",
   "name": "python",
   "nbconvert_exporter": "python",
   "pygments_lexer": "ipython3",
   "version": "3.11.0"
  }
 },
 "nbformat": 4,
 "nbformat_minor": 2
}
