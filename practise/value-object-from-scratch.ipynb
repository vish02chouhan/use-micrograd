{
 "cells": [
  {
   "cell_type": "code",
   "execution_count": null,
   "metadata": {},
   "outputs": [],
   "source": [
    "class Value:\n",
    "\n",
    "    def __init__(self, data, children = (), _op = \"\", label = \"\"):\n",
    "        self.data = data\n",
    "        self._next = set(children)\n",
    "        self._op =  _op\n",
    "        self.label = label\n",
    "        self.grad = 0\n",
    "        self.backward = lambda: None\n",
    "\n",
    "\n",
    "    def __add__(self, other):\n",
    "        other = other if isinstance(other, Value) else Value(other)\n",
    "\n",
    "        out = Value(self.data + other.data, (self, other),\"+\")\n",
    "        def _backward(self, other):\n",
    "\n",
    "            self.grad += 1*out.grad\n",
    "            other.grad += 1*out.grad\n",
    "\n",
    "        out.backward = _backward\n",
    "\n",
    "        return out\n",
    "    \n",
    "    def __add__(self, other):\n",
    "        other = other if isinstance(other, Value) else Value(other)\n",
    "\n",
    "        out = Value(self.data + other.data, (self, other),\"+\")\n",
    "        def _backward(self, other):\n",
    "\n",
    "            self.grad = other.grad * out.grad\n",
    "            other.grad = self.grad * out.grad\n",
    "\n",
    "        out.backward = _backward\n",
    "        \n",
    "        return out\n",
    "\n",
    "\n",
    "          \n",
    "\n",
    "\n",
    "          \n",
    "          \n",
    "\n",
    "\n",
    "\n",
    "\n",
    "    \n",
    "    def __repr__(self) -> str:\n",
    "        return f\"Value(data= {self.data})\"\n",
    "    \n",
    "\n"
   ]
  }
 ],
 "metadata": {
  "kernelspec": {
   "display_name": ".venv",
   "language": "python",
   "name": "python3"
  },
  "language_info": {
   "codemirror_mode": {
    "name": "ipython",
    "version": 3
   },
   "file_extension": ".py",
   "mimetype": "text/x-python",
   "name": "python",
   "nbconvert_exporter": "python",
   "pygments_lexer": "ipython3",
   "version": "3.11.0"
  }
 },
 "nbformat": 4,
 "nbformat_minor": 2
}
