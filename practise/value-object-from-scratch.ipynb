{
 "cells": [
  {
   "cell_type": "code",
   "execution_count": null,
   "metadata": {},
   "outputs": [],
   "source": [
    "from graphviz import Digraph\n",
    "\n",
    "def trace(root):\n",
    "  # builds a set of all nodes and edges in a graph\n",
    "  nodes, edges = set(), set()\n",
    "  def build(v):\n",
    "    if v not in nodes:\n",
    "      nodes.add(v)\n",
    "      for child in v._prev:\n",
    "        edges.add((child, v))\n",
    "        build(child)\n",
    "  build(root)\n",
    "  return nodes, edges\n",
    "\n",
    "def draw_dot(root):\n",
    "  dot = Digraph(format='svg', graph_attr={'rankdir': 'LR'}) # LR = left to right\n",
    "  \n",
    "  nodes, edges = trace(root)\n",
    "  for n in nodes:\n",
    "    uid = str(id(n))\n",
    "    # for any value in the graph, create a rectangular ('record') node for it\n",
    "    dot.node(name = uid, label = \"{ %s | data %.4f | grad %.4f }\" % (n.label, n.data, n.grad), shape='record')\n",
    "    if n._op:\n",
    "      # if this value is a result of some operation, create an op node for it\n",
    "      dot.node(name = uid + n._op, label = n._op)\n",
    "      # and connect this node to it\n",
    "      dot.edge(uid + n._op, uid)\n",
    "\n",
    "  for n1, n2 in edges:\n",
    "    # connect n1 to the op node of n2\n",
    "    dot.edge(str(id(n1)), str(id(n2)) + n2._op)\n",
    "\n",
    "  return dot"
   ]
  },
  {
   "cell_type": "code",
   "execution_count": 15,
   "metadata": {},
   "outputs": [],
   "source": [
    "class Value:\n",
    "\n",
    "    def __init__(self, data, _children = (), op = \"\", label =\"\") -> None:\n",
    "        self.data = data\n",
    "        self._prev = set(_children)\n",
    "        self._op = op\n",
    "        self.grad = None\n",
    "        self.label = label\n",
    "        self._backward = None\n",
    "\n",
    "    def __add__(self, other):\n",
    "        if not isinstance(other, Value):\n",
    "            other = Value(other)\n",
    "        out = Value(self.data + other.data, (self,other), \"+\")\n",
    "        def backward(self, other):\n",
    "            self.grad = other.grad\n",
    "            other.grad = self.grad\n",
    "\n",
    "        out._backward = backward\n",
    "\n",
    "        return out\n",
    "    \n",
    "    def __sub__(self, other):\n",
    "        if type(other) != type(Value):\n",
    "            other = Value(other)\n",
    "        return Value(self.data - other.data, (self,other), \"-\")\n",
    "    \n",
    "    def __mul__(self, other):\n",
    "        if not isinstance(other, Value):\n",
    "            other = Value(other)\n",
    "        return Value(self.data * other.data, (self,other), \"*\")\n",
    "    \n",
    "    def __div__(self, other):\n",
    "        if type(other) != type(Value):\n",
    "            other = Value(other)\n",
    "        return Value(self.data/other.data, (self,other), \"/\")\n",
    "    \n",
    "    def __pow__(self):\n",
    "        return Value(self.data**2, (self,),\"pow\")\n",
    "    \n",
    "    def log(self):\n",
    "        return Value(Math.log(self.data))\n",
    "    \n",
    "    def backward(self):\n",
    "\n",
    "        aaa ='999'\n",
    "        for children in self._prev:\n",
    "            children._backward()\n",
    "\n",
    "    \n",
    "    def __repr__(self) -> str:\n",
    "        return f\"Value(data={self.data})\"\n",
    "        "
   ]
  },
  {
   "cell_type": "code",
   "execution_count": 16,
   "metadata": {},
   "outputs": [],
   "source": [
    "a = Value(-3, label='a')\n",
    "b = Value(2, label='b')\n",
    "c = Value(10, label='c')\n",
    "d =  a + b\n",
    "\n",
    "#draw_dot(d)\n"
   ]
  },
  {
   "cell_type": "code",
   "execution_count": 17,
   "metadata": {},
   "outputs": [
    {
     "ename": "TypeError",
     "evalue": "'NoneType' object is not callable",
     "output_type": "error",
     "traceback": [
      "\u001b[1;31m---------------------------------------------------------------------------\u001b[0m",
      "\u001b[1;31mTypeError\u001b[0m                                 Traceback (most recent call last)",
      "\u001b[1;32mc:\\Users\\ADMIN\\repos\\use-micrograd\\practise\\value-object-from-scratch.ipynb Cell 4\u001b[0m line \u001b[0;36m1\n\u001b[1;32m----> <a href='vscode-notebook-cell:/c%3A/Users/ADMIN/repos/use-micrograd/practise/value-object-from-scratch.ipynb#W3sZmlsZQ%3D%3D?line=0'>1</a>\u001b[0m d\u001b[39m.\u001b[39;49mbackward()\n",
      "\u001b[1;32mc:\\Users\\ADMIN\\repos\\use-micrograd\\practise\\value-object-from-scratch.ipynb Cell 4\u001b[0m line \u001b[0;36m4\n\u001b[0;32m     <a href='vscode-notebook-cell:/c%3A/Users/ADMIN/repos/use-micrograd/practise/value-object-from-scratch.ipynb#W3sZmlsZQ%3D%3D?line=45'>46</a>\u001b[0m aaa \u001b[39m=\u001b[39m\u001b[39m'\u001b[39m\u001b[39m999\u001b[39m\u001b[39m'\u001b[39m\n\u001b[0;32m     <a href='vscode-notebook-cell:/c%3A/Users/ADMIN/repos/use-micrograd/practise/value-object-from-scratch.ipynb#W3sZmlsZQ%3D%3D?line=46'>47</a>\u001b[0m \u001b[39mfor\u001b[39;00m children \u001b[39min\u001b[39;00m \u001b[39mself\u001b[39m\u001b[39m.\u001b[39m_prev:\n\u001b[1;32m---> <a href='vscode-notebook-cell:/c%3A/Users/ADMIN/repos/use-micrograd/practise/value-object-from-scratch.ipynb#W3sZmlsZQ%3D%3D?line=47'>48</a>\u001b[0m     children\u001b[39m.\u001b[39;49m_backward()\n",
      "\u001b[1;31mTypeError\u001b[0m: 'NoneType' object is not callable"
     ]
    }
   ],
   "source": [
    "d.backward()"
   ]
  }
 ],
 "metadata": {
  "kernelspec": {
   "display_name": ".venv",
   "language": "python",
   "name": "python3"
  },
  "language_info": {
   "codemirror_mode": {
    "name": "ipython",
    "version": 3
   },
   "file_extension": ".py",
   "mimetype": "text/x-python",
   "name": "python",
   "nbconvert_exporter": "python",
   "pygments_lexer": "ipython3",
   "version": "3.11.5"
  }
 },
 "nbformat": 4,
 "nbformat_minor": 2
}
