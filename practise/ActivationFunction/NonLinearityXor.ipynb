{
 "cells": [
  {
   "cell_type": "code",
   "execution_count": 1,
   "metadata": {},
   "outputs": [],
   "source": [
    "import torch\n",
    "import torch.nn as nn\n",
    "import torch.optim as optim\n",
    "\n",
    "# Define a simple Neural Network with one hidden layer (2 neurons) and non-linear activation functions\n",
    "class SimpleXORNet(nn.Module):\n",
    "    def __init__(self):\n",
    "        super(SimpleXORNet, self).__init__()\n",
    "        self.fc1 = nn.Linear(2, 2)  # Input layer to hidden layer\n",
    "        self.relu = nn.ReLU()       # Non-linear activation function\n",
    "        self.fc2 = nn.Linear(2, 1)  # Hidden layer to output layer\n",
    "\n",
    "    def forward(self, x):\n",
    "        x = self.fc1(x)\n",
    "        #x = self.relu(x)\n",
    "        x = self.fc2(x)\n",
    "        return x\n",
    "\n",
    "# Initialize the network\n",
    "net = SimpleXORNet()\n",
    "\n",
    "# XOR inputs and outputs\n",
    "inputs = torch.tensor([[0, 0], [0, 1], [1, 0], [1, 1]], dtype=torch.float32)\n",
    "outputs = torch.tensor([[0], [1], [1], [0]], dtype=torch.float32)\n",
    "\n",
    "# Define the loss function and optimizer\n",
    "criterion = nn.MSELoss()\n",
    "optimizer = optim.SGD(net.parameters(), lr=0.1)\n",
    "\n",
    "\n"
   ]
  },
  {
   "cell_type": "code",
   "execution_count": 2,
   "metadata": {},
   "outputs": [
    {
     "name": "stdout",
     "output_type": "stream",
     "text": [
      "Epoch 100, Loss: 0.16702070832252502\n",
      "Epoch 200, Loss: 0.16666670143604279\n",
      "Epoch 300, Loss: 0.1666666716337204\n",
      "Epoch 400, Loss: 0.1666666716337204\n",
      "Epoch 500, Loss: 0.1666666716337204\n",
      "Epoch 600, Loss: 0.1666666716337204\n",
      "Epoch 700, Loss: 0.1666666716337204\n",
      "Epoch 800, Loss: 0.1666666716337204\n",
      "Epoch 900, Loss: 0.1666666716337204\n",
      "Epoch 1000, Loss: 0.1666666716337204\n",
      "Input: tensor([0., 0.]), Predicted: 0.6666663289070129, Actual: 0.0\n",
      "Input: tensor([0., 1.]), Predicted: 0.6666663289070129, Actual: 1.0\n",
      "Input: tensor([1., 0.]), Predicted: 0.6666663289070129, Actual: 1.0\n",
      "Input: tensor([1., 1.]), Predicted: 5.364418029785156e-07, Actual: 0.0\n"
     ]
    }
   ],
   "source": [
    "# Train the network\n",
    "for epoch in range(1000):\n",
    "    optimizer.zero_grad()\n",
    "    predicted = net(inputs)\n",
    "    loss = criterion(predicted, outputs)\n",
    "    loss.backward()\n",
    "    optimizer.step()\n",
    "\n",
    "    if epoch % 100 == 99:\n",
    "        print(f'Epoch {epoch+1}, Loss: {loss.item()}')\n",
    "\n",
    "# Test the network\n",
    "with torch.no_grad():\n",
    "    for input, label in zip(inputs, outputs):\n",
    "        predicted = net(input)\n",
    "        print(f'Input: {input}, Predicted: {predicted.item()}, Actual: {label.item()}')"
   ]
  }
 ],
 "metadata": {
  "kernelspec": {
   "display_name": ".venv",
   "language": "python",
   "name": "python3"
  },
  "language_info": {
   "codemirror_mode": {
    "name": "ipython",
    "version": 3
   },
   "file_extension": ".py",
   "mimetype": "text/x-python",
   "name": "python",
   "nbconvert_exporter": "python",
   "pygments_lexer": "ipython3",
   "version": "3.11.0"
  }
 },
 "nbformat": 4,
 "nbformat_minor": 2
}
