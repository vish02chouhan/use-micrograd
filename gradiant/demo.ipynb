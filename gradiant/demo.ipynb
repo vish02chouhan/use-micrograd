{
 "cells": [
  {
   "cell_type": "markdown",
   "metadata": {},
   "source": [
    "### MicroGrad demo\n"
   ]
  },
  {
   "cell_type": "code",
   "execution_count": null,
   "metadata": {},
   "outputs": [],
   "source": [
    "import random\n",
    "import numpy as np\n",
    "import matplotlib.pyplot as plt\n",
    "%matplotlib inline"
   ]
  },
  {
   "cell_type": "code",
   "execution_count": null,
   "metadata": {},
   "outputs": [],
   "source": [
    "\n",
    "class Value:\n",
    "    \"\"\" stores a single scalar value and its gradient \"\"\"\n",
    "\n",
    "    def __init__(self, data, _children=(), _op=''):\n",
    "        self.data = data\n",
    "        self.grad = 0\n",
    "        # internal variables used for autograd graph construction\n",
    "        self._backward = lambda: None\n",
    "        self._prev = set(_children)\n",
    "        self._op = _op # the op that produced this node, for graphviz / debugging / etc\n",
    "\n",
    "    def __add__(self, other):\n",
    "        other = other if isinstance(other, Value) else Value(other)\n",
    "        out = Value(self.data + other.data, (self, other), '+')\n",
    "\n",
    "        def _backward():\n",
    "            self.grad += out.grad\n",
    "            other.grad += out.grad\n",
    "        out._backward = _backward\n",
    "\n",
    "        return out\n",
    "\n",
    "    def __mul__(self, other):\n",
    "        other = other if isinstance(other, Value) else Value(other)\n",
    "        out = Value(self.data * other.data, (self, other), '*')\n",
    "\n",
    "        def _backward():\n",
    "            self.grad += other.data * out.grad\n",
    "            other.grad += self.data * out.grad\n",
    "        out._backward = _backward\n",
    "\n",
    "        return out\n",
    "\n",
    "    def __pow__(self, other):\n",
    "        assert isinstance(other, (int, float)), \"only supporting int/float powers for now\"\n",
    "        out = Value(self.data**other, (self,), f'**{other}')\n",
    "\n",
    "        def _backward():\n",
    "            self.grad += (other * self.data**(other-1)) * out.grad\n",
    "        out._backward = _backward\n",
    "\n",
    "        return out\n",
    "\n",
    "    def relu(self):\n",
    "        out = Value(0 if self.data < 0 else self.data, (self,), 'ReLU')\n",
    "\n",
    "        def _backward():\n",
    "            self.grad += (out.data > 0) * out.grad\n",
    "        out._backward = _backward\n",
    "\n",
    "        return out\n",
    "\n",
    "    def backward(self):\n",
    "\n",
    "        # topological order all of the children in the graph\n",
    "        topo = []\n",
    "        visited = set()\n",
    "        def build_topo(v):\n",
    "            if v not in visited:\n",
    "                visited.add(v)\n",
    "                for child in v._prev:\n",
    "                    build_topo(child)\n",
    "                topo.append(v)\n",
    "        build_topo(self)\n",
    "\n",
    "        # go one variable at a time and apply the chain rule to get its gradient\n",
    "        self.grad = 1\n",
    "        for v in reversed(topo):\n",
    "            v._backward()\n",
    "\n",
    "    def __neg__(self): # -self\n",
    "        return self * -1\n",
    "\n",
    "    def __radd__(self, other): # other + self\n",
    "        return self + other\n",
    "\n",
    "    def __sub__(self, other): # self - other\n",
    "        return self + (-other)\n",
    "\n",
    "    def __rsub__(self, other): # other - self\n",
    "        return other + (-self)\n",
    "\n",
    "    def __rmul__(self, other): # other * self\n",
    "        return self * other\n",
    "\n",
    "    def __truediv__(self, other): # self / other\n",
    "        return self * other**-1\n",
    "\n",
    "    def __rtruediv__(self, other): # other / self\n",
    "        return other * self**-1\n",
    "\n",
    "    def __repr__(self):\n",
    "        return f\"Value(data={self.data}, grad={self.grad})\"\n",
    "    \n"
   ]
  },
  {
   "cell_type": "code",
   "execution_count": null,
   "metadata": {},
   "outputs": [],
   "source": [
    "\n",
    "class Module:\n",
    "\n",
    "    def zero_grad(self):\n",
    "        for p in self.parameters():\n",
    "            p.grad = 0\n",
    "\n",
    "    def parameters(self):\n",
    "        return []\n",
    "\n",
    "class Neuron(Module):\n",
    "\n",
    "    def __init__(self, nin, nonlin=True):\n",
    "        self.w = [Value(random.uniform(-1,1)) for _ in range(nin)]\n",
    "        #print(self.w)\n",
    "        self.b = Value(0)\n",
    "        self.nonlin = nonlin\n",
    "\n",
    "    def __call__(self, x):\n",
    "        act = sum((wi*xi for wi,xi in zip(self.w, x)), self.b)\n",
    "        return act.relu() if self.nonlin else act\n",
    "\n",
    "    def parameters(self):\n",
    "        return self.w + [self.b]\n",
    "\n",
    "    def __repr__(self):\n",
    "        return f\"{'ReLU' if self.nonlin else 'Linear'}Neuron({len(self.w)})\"\n",
    "\n",
    "class Layer(Module):\n",
    "\n",
    "    def __init__(self, nin, nout, **kwargs):\n",
    "        self.neurons = [Neuron(nin, **kwargs) for _ in range(nout)]\n",
    "        x= 5\n",
    "\n",
    "    def __call__(self, x):\n",
    "        out = [n(x) for n in self.neurons]\n",
    "        return out[0] if len(out) == 1 else out\n",
    "\n",
    "    def parameters(self):\n",
    "        return [p for n in self.neurons for p in n.parameters()]\n",
    "\n",
    "    def __repr__(self):\n",
    "        return f\"Layer of [{', '.join(str(n) for n in self.neurons)}]\"\n",
    "\n",
    "class MLP(Module):\n",
    "\n",
    "    def __init__(self, nin, nouts):\n",
    "        sz = [nin] + nouts\n",
    "        self.layers = [Layer(sz[i], sz[i+1], nonlin=i!=len(nouts)-1) for i in range(len(nouts))]\n",
    "        a:str = \"abc\"\n",
    "        b:str = \"xyz\"\n",
    "\n",
    "    def __call__(self, x):\n",
    "        for layer in self.layers:\n",
    "            x = layer(x)\n",
    "        return x\n",
    "\n",
    "    def parameters(self):\n",
    "        return [p for layer in self.layers for p in layer.parameters()]\n",
    "\n",
    "    def __repr__(self):\n",
    "        return f\"MLP of [{', '.join(str(layer) for layer in self.layers)}]\""
   ]
  },
  {
   "cell_type": "code",
   "execution_count": null,
   "metadata": {},
   "outputs": [],
   "source": []
  },
  {
   "cell_type": "code",
   "execution_count": null,
   "metadata": {},
   "outputs": [],
   "source": [
    "np.random.seed(1337)\n",
    "random.seed(1337)"
   ]
  },
  {
   "cell_type": "code",
   "execution_count": null,
   "metadata": {},
   "outputs": [],
   "source": [
    "ytest = 1\n",
    "ytest = ytest*2-1\n",
    "ytest"
   ]
  },
  {
   "cell_type": "code",
   "execution_count": null,
   "metadata": {},
   "outputs": [],
   "source": [
    "X1, y1 = make_moons(n_samples=100, noise=0.6)\n",
    "f\"%.4f\"%(9.92381541e-02)\n",
    "max(X1[:,0]),max(X1[:,1]),min(X1[:,0]),min(X1[:,1])"
   ]
  },
  {
   "cell_type": "code",
   "execution_count": null,
   "metadata": {},
   "outputs": [],
   "source": [
    "# make up a dataset\n",
    "\n",
    "from sklearn.datasets import make_moons, make_blobs\n",
    "X, y = make_moons(n_samples=100, noise=0.1)\n",
    "\n",
    "y = y*2 - 1 # make y be -1 or 1\n",
    "# visualize in 2D\n",
    "plt.figure(figsize=(5,5))\n",
    "plt.scatter(X[:,0], X[:,1], c=y, s=20, cmap='jet')"
   ]
  },
  {
   "cell_type": "code",
   "execution_count": 33,
   "metadata": {},
   "outputs": [
    {
     "name": "stdout",
     "output_type": "stream",
     "text": [
      "MLP of [Layer of [ReLUNeuron(2), ReLUNeuron(2), ReLUNeuron(2), ReLUNeuron(2), ReLUNeuron(2), ReLUNeuron(2), ReLUNeuron(2), ReLUNeuron(2), ReLUNeuron(2), ReLUNeuron(2), ReLUNeuron(2), ReLUNeuron(2), ReLUNeuron(2), ReLUNeuron(2), ReLUNeuron(2), ReLUNeuron(2)], Layer of [ReLUNeuron(16), ReLUNeuron(16), ReLUNeuron(16), ReLUNeuron(16), ReLUNeuron(16), ReLUNeuron(16), ReLUNeuron(16), ReLUNeuron(16), ReLUNeuron(16), ReLUNeuron(16), ReLUNeuron(16), ReLUNeuron(16), ReLUNeuron(16), ReLUNeuron(16), ReLUNeuron(16), ReLUNeuron(16)], Layer of [LinearNeuron(16)]]\n",
      "number of parameters 337\n"
     ]
    }
   ],
   "source": [
    "# initialize a model \n",
    "model = MLP(2, [16, 16, 1]) # 2-layer neural network\n",
    "print(model)\n",
    "print(\"number of parameters\", len(model.parameters()))"
   ]
  },
  {
   "cell_type": "code",
   "execution_count": null,
   "metadata": {},
   "outputs": [],
   "source": [
    "model.layers"
   ]
  },
  {
   "cell_type": "code",
   "execution_count": 34,
   "metadata": {},
   "outputs": [],
   "source": [
    "Xb, yb = X, y\n",
    "inputs = [list(map(Value, xrow)) for xrow in Xb]\n",
    "# forward the model to get scores\n",
    "scores = list(map(model, inputs))\n",
    "\n",
    "# svm \"max-margin\" loss\n",
    "losses = [(1 + -yi*scorei).relu() for yi, scorei in zip(yb, scores)]\n",
    "data_loss = sum(losses) * (1.0 / len(losses))\n",
    "# L2 regularization\n",
    "alpha = 1e-4\n",
    "reg_loss = alpha * sum((p*p for p in model.parameters()))\n",
    "total_loss = data_loss + reg_loss\n",
    "\n",
    "# also get accuracy\n",
    "accuracy = [(yi > 0) == (scorei.data > 0) for yi, scorei in zip(yb, scores)]"
   ]
  },
  {
   "cell_type": "code",
   "execution_count": 43,
   "metadata": {},
   "outputs": [
    {
     "data": {
      "text/plain": [
       "-0.12082339934976938"
      ]
     },
     "execution_count": 43,
     "metadata": {},
     "output_type": "execute_result"
    }
   ],
   "source": [
    "1 -1.1208233993497694"
   ]
  },
  {
   "cell_type": "code",
   "execution_count": 42,
   "metadata": {},
   "outputs": [
    {
     "name": "stdout",
     "output_type": "stream",
     "text": [
      "-1 Value(data=-1.1208233993497694, grad=0)\n",
      "-1 Value(data=-0.8600402759338337, grad=0)\n",
      "1 Value(data=-1.7856531986834896, grad=0)\n",
      "-1 Value(data=-0.8547138930939555, grad=0)\n",
      "1 Value(data=-0.18790724638196726, grad=0)\n",
      "1 Value(data=-0.25916180483739526, grad=0)\n",
      "1 Value(data=-1.7846560933890738, grad=0)\n",
      "1 Value(data=-1.7325469868650958, grad=0)\n",
      "1 Value(data=-2.0260096862564887, grad=0)\n",
      "-1 Value(data=-0.8261106532533242, grad=0)\n",
      "1 Value(data=-0.101492494444343, grad=0)\n",
      "-1 Value(data=0.17265510990664956, grad=0)\n",
      "-1 Value(data=0.05646485424781966, grad=0)\n",
      "1 Value(data=-2.3199645912028677, grad=0)\n",
      "-1 Value(data=-0.9416563171206334, grad=0)\n",
      "-1 Value(data=-1.187110437350774, grad=0)\n",
      "1 Value(data=-0.675930622414755, grad=0)\n",
      "1 Value(data=-2.1830611658517087, grad=0)\n",
      "-1 Value(data=0.12490745056009622, grad=0)\n",
      "-1 Value(data=-0.8933877492786335, grad=0)\n",
      "-1 Value(data=-1.2532515418861194, grad=0)\n",
      "1 Value(data=-1.7900426554888003, grad=0)\n",
      "1 Value(data=-2.152317632021627, grad=0)\n",
      "1 Value(data=0.023545294302309283, grad=0)\n",
      "1 Value(data=-0.07571278657127073, grad=0)\n",
      "-1 Value(data=0.15107912851339877, grad=0)\n",
      "-1 Value(data=-0.11013231059929085, grad=0)\n",
      "1 Value(data=-2.066284404146979, grad=0)\n",
      "-1 Value(data=-1.180963323630522, grad=0)\n",
      "1 Value(data=-2.0504027870827977, grad=0)\n",
      "-1 Value(data=0.20047749221380373, grad=0)\n",
      "-1 Value(data=-0.9996418450616238, grad=0)\n",
      "-1 Value(data=-0.4871421560290472, grad=0)\n",
      "-1 Value(data=-0.5388584112799785, grad=0)\n",
      "1 Value(data=-0.28996633056491694, grad=0)\n",
      "-1 Value(data=-1.071128431249286, grad=0)\n",
      "1 Value(data=-2.0886603818518457, grad=0)\n",
      "1 Value(data=-1.8442010893484322, grad=0)\n",
      "1 Value(data=-2.1368869618386834, grad=0)\n",
      "-1 Value(data=-0.697931090994553, grad=0)\n",
      "-1 Value(data=-1.194308653881188, grad=0)\n",
      "-1 Value(data=0.187319560599724, grad=0)\n",
      "-1 Value(data=-1.1675652707921647, grad=0)\n",
      "-1 Value(data=-1.2514038125182352, grad=0)\n",
      "-1 Value(data=-0.09070123652117834, grad=0)\n",
      "1 Value(data=-1.6624447819738686, grad=0)\n",
      "1 Value(data=-0.6879759742274786, grad=0)\n",
      "-1 Value(data=-0.08583268779788256, grad=0)\n",
      "1 Value(data=-0.4968019676620403, grad=0)\n",
      "-1 Value(data=-1.1528285378699723, grad=0)\n",
      "-1 Value(data=-0.9127914345259089, grad=0)\n",
      "1 Value(data=-2.0947119248701247, grad=0)\n",
      "-1 Value(data=-0.03767359219854982, grad=0)\n",
      "1 Value(data=-2.0001417072566894, grad=0)\n",
      "1 Value(data=-0.637572421499744, grad=0)\n",
      "-1 Value(data=-0.15878144967432162, grad=0)\n",
      "-1 Value(data=-1.0904827546659646, grad=0)\n",
      "1 Value(data=-1.6339676288272982, grad=0)\n",
      "-1 Value(data=-1.1788502268937222, grad=0)\n",
      "-1 Value(data=-0.9469722646625345, grad=0)\n",
      "-1 Value(data=0.24434770840700226, grad=0)\n",
      "-1 Value(data=-0.3001484061511175, grad=0)\n",
      "-1 Value(data=-1.2717558604361392, grad=0)\n",
      "-1 Value(data=-0.04432461390379161, grad=0)\n",
      "-1 Value(data=-0.8086790802171426, grad=0)\n",
      "1 Value(data=-1.8294864745953694, grad=0)\n",
      "-1 Value(data=-0.739429511831175, grad=0)\n",
      "1 Value(data=-2.3759423705742932, grad=0)\n",
      "1 Value(data=-1.5416512892904386, grad=0)\n",
      "1 Value(data=-2.140473714745746, grad=0)\n",
      "1 Value(data=-2.580200679744764, grad=0)\n",
      "-1 Value(data=-1.3868495810297032, grad=0)\n",
      "-1 Value(data=-0.7970353585354604, grad=0)\n",
      "1 Value(data=-1.2352334896621864, grad=0)\n",
      "1 Value(data=-0.2883663850888785, grad=0)\n",
      "1 Value(data=-0.22463974611441268, grad=0)\n",
      "-1 Value(data=-0.6021954175335168, grad=0)\n",
      "1 Value(data=-0.1903729529089353, grad=0)\n",
      "1 Value(data=-0.6816591262517672, grad=0)\n",
      "1 Value(data=-1.9792849295862867, grad=0)\n",
      "1 Value(data=-1.3366533037641164, grad=0)\n",
      "-1 Value(data=-0.4036313921961613, grad=0)\n",
      "1 Value(data=-2.0968207709110063, grad=0)\n",
      "-1 Value(data=-0.1179042515878388, grad=0)\n",
      "-1 Value(data=-1.2299872042549884, grad=0)\n",
      "-1 Value(data=-0.3001646126525066, grad=0)\n",
      "1 Value(data=-2.1894513766466934, grad=0)\n",
      "1 Value(data=-0.007512717865884977, grad=0)\n",
      "-1 Value(data=-1.1678613055506308, grad=0)\n",
      "-1 Value(data=-1.2510562333714046, grad=0)\n",
      "1 Value(data=-1.9148986602759717, grad=0)\n",
      "1 Value(data=-2.247661560324126, grad=0)\n",
      "1 Value(data=-2.4230299322189115, grad=0)\n",
      "1 Value(data=-2.2240586207363457, grad=0)\n",
      "1 Value(data=-2.0970250558468977, grad=0)\n",
      "1 Value(data=-1.7685441641514017, grad=0)\n",
      "-1 Value(data=-0.4553528923142791, grad=0)\n",
      "1 Value(data=-1.793308118684251, grad=0)\n",
      "1 Value(data=-0.1860907611775119, grad=0)\n",
      "-1 Value(data=-0.2953475998222299, grad=0)\n"
     ]
    }
   ],
   "source": [
    "for i, j in zip(yb, scores):\n",
    "    print(i,j)\n",
    "    "
   ]
  },
  {
   "cell_type": "code",
   "execution_count": 38,
   "metadata": {},
   "outputs": [
    {
     "data": {
      "text/plain": [
       "(Value(data=-1.1208233993497694, grad=0),\n",
       " -1,\n",
       " Value(data=1.1208233993497694, grad=0))"
      ]
     },
     "execution_count": 38,
     "metadata": {},
     "output_type": "execute_result"
    }
   ],
   "source": [
    "scores[0], yb[0], scores[0] * yb[0]"
   ]
  },
  {
   "cell_type": "code",
   "execution_count": 32,
   "metadata": {},
   "outputs": [
    {
     "name": "stdout",
     "output_type": "stream",
     "text": [
      "Value(data=0.9171076268105658, grad=0) 0.5\n"
     ]
    }
   ],
   "source": [
    "# loss function\n",
    "def loss(batch_size=None):\n",
    "    \n",
    "    # inline DataLoader :)\n",
    "    if batch_size is None:\n",
    "        Xb, yb = X, y\n",
    "    else:\n",
    "        ri = np.random.permutation(X.shape[0])[:batch_size]\n",
    "        Xb, yb = X[ri], y[ri]\n",
    "    inputs = [list(map(Value, xrow)) for xrow in Xb]\n",
    "    \n",
    "    # forward the model to get scores\n",
    "    scores = list(map(model, inputs))\n",
    "    \n",
    "    # svm \"max-margin\" loss\n",
    "    losses = [(1 + -yi*scorei).relu() for yi, scorei in zip(yb, scores)]\n",
    "    data_loss = sum(losses) * (1.0 / len(losses))\n",
    "    # L2 regularization\n",
    "    alpha = 1e-4\n",
    "    reg_loss = alpha * sum((p*p for p in model.parameters()))\n",
    "    total_loss = data_loss + reg_loss\n",
    "    \n",
    "    # also get accuracy\n",
    "    accuracy = [(yi > 0) == (scorei.data > 0) for yi, scorei in zip(yb, scores)]\n",
    "    return total_loss, sum(accuracy) / len(accuracy)\n",
    "\n",
    "total_loss, acc = loss()\n",
    "print(total_loss, acc)"
   ]
  },
  {
   "cell_type": "code",
   "execution_count": null,
   "metadata": {},
   "outputs": [],
   "source": [
    "# optimization\n",
    "for k in range(100):\n",
    "    \n",
    "    # forward\n",
    "    total_loss, acc = loss()\n",
    "    \n",
    "    # backward\n",
    "    model.zero_grad()\n",
    "    total_loss.backward()\n",
    "    \n",
    "    # update (sgd)\n",
    "    learning_rate = 1.0 - 0.9*k/100\n",
    "    for p in model.parameters():\n",
    "        p.data -= learning_rate * p.grad\n",
    "    \n",
    "    if k % 1 == 0:\n",
    "        print(f\"step {k} loss {total_loss.data}, accuracy {acc*100}%\")\n"
   ]
  },
  {
   "cell_type": "code",
   "execution_count": null,
   "metadata": {},
   "outputs": [],
   "source": [
    "# visualize decision boundary\n",
    "\n",
    "h = 0.25\n",
    "x_min, x_max = X[:, 0].min() - 1, X[:, 0].max() + 1\n",
    "y_min, y_max = X[:, 1].min() - 1, X[:, 1].max() + 1\n",
    "xx, yy = np.meshgrid(np.arange(x_min, x_max, h),\n",
    "                     np.arange(y_min, y_max, h))\n",
    "Xmesh = np.c_[xx.ravel(), yy.ravel()]\n",
    "inputs = [list(map(Value, xrow)) for xrow in Xmesh]\n",
    "scores = list(map(model, inputs))\n",
    "Z = np.array([s.data > 0 for s in scores])\n",
    "Z = Z.reshape(xx.shape)\n",
    "\n",
    "fig = plt.figure()\n",
    "plt.contourf(xx, yy, Z, cmap=plt.cm.Spectral, alpha=0.8)\n",
    "plt.scatter(X[:, 0], X[:, 1], c=y, s=40, cmap=plt.cm.Spectral)\n",
    "plt.xlim(xx.min(), xx.max())\n",
    "plt.ylim(yy.min(), yy.max())\n"
   ]
  },
  {
   "cell_type": "code",
   "execution_count": null,
   "metadata": {},
   "outputs": [],
   "source": []
  }
 ],
 "metadata": {
  "kernelspec": {
   "display_name": "Python 3",
   "language": "python",
   "name": "python3"
  },
  "language_info": {
   "codemirror_mode": {
    "name": "ipython",
    "version": 3
   },
   "file_extension": ".py",
   "mimetype": "text/x-python",
   "name": "python",
   "nbconvert_exporter": "python",
   "pygments_lexer": "ipython3",
   "version": "3.11.0"
  }
 },
 "nbformat": 4,
 "nbformat_minor": 2
}
