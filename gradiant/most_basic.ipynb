{
 "cells": [
  {
   "cell_type": "code",
   "execution_count": null,
   "metadata": {},
   "outputs": [],
   "source": [
    "class Value:\n",
    "    \"\"\" stores a single scalar value and its gradient \"\"\"\n",
    "\n",
    "    def __init__(self, data, _children=(), _op=''):\n",
    "        self.data = data\n",
    "        self.grad = 0\n",
    "        # internal variables used for autograd graph construction\n",
    "        self._backward = lambda: None\n",
    "        self._prev = set(_children)\n",
    "        self._op = _op # the op that produced this node, for graphviz / debugging / etc\n",
    "\n",
    "    def __add__(self, other):\n",
    "        other = other if isinstance(other, Value) else Value(other)\n",
    "        out = Value(self.data + other.data, (self, other), '+')\n",
    "\n",
    "        def _backward():\n",
    "            self.grad += out.grad\n",
    "            other.grad += out.grad\n",
    "        out._backward = _backward\n",
    "\n",
    "        return out\n",
    "\n",
    "    def __mul__(self, other):\n",
    "        other = other if isinstance(other, Value) else Value(other)\n",
    "        out = Value(self.data * other.data, (self, other), '*')\n",
    "\n",
    "        def _backward():\n",
    "            self.grad += other.data * out.grad\n",
    "            other.grad += self.data * out.grad\n",
    "        out._backward = _backward\n",
    "\n",
    "        return out\n",
    "\n",
    "    def __pow__(self, other):\n",
    "        assert isinstance(other, (int, float)), \"only supporting int/float powers for now\"\n",
    "        out = Value(self.data**other, (self,), f'**{other}')\n",
    "\n",
    "        def _backward():\n",
    "            self.grad += (other * self.data**(other-1)) * out.grad\n",
    "        out._backward = _backward\n",
    "\n",
    "        return out\n",
    "\n",
    "    def relu(self):\n",
    "        out = Value(0 if self.data < 0 else self.data, (self,), 'ReLU')\n",
    "\n",
    "        def _backward():\n",
    "            self.grad += (out.data > 0) * out.grad\n",
    "        out._backward = _backward\n",
    "\n",
    "        return out\n",
    "\n",
    "    def backward(self):\n",
    "\n",
    "        # topological order all of the children in the graph\n",
    "        topo = []\n",
    "        visited = set()\n",
    "        def build_topo(v):\n",
    "            if v not in visited:\n",
    "                visited.add(v)\n",
    "                for child in v._prev:\n",
    "                    build_topo(child)\n",
    "                topo.append(v)\n",
    "        build_topo(self)\n",
    "\n",
    "        # go one variable at a time and apply the chain rule to get its gradient\n",
    "        self.grad = 1\n",
    "        for v in reversed(topo):\n",
    "            v._backward()\n",
    "\n",
    "    def __neg__(self): # -self\n",
    "        return self * -1\n",
    "\n",
    "    def __radd__(self, other): # other + self\n",
    "        return self + other\n",
    "\n",
    "    def __sub__(self, other): # self - other\n",
    "        return self + (-other)\n",
    "\n",
    "    def __rsub__(self, other): # other - self\n",
    "        return other + (-self)\n",
    "\n",
    "    def __rmul__(self, other): # other * self\n",
    "        return self * other\n",
    "\n",
    "    def __truediv__(self, other): # self / other\n",
    "        return self * other**-1\n",
    "\n",
    "    def __rtruediv__(self, other): # other / self\n",
    "        return other * self**-1\n",
    "\n",
    "    def __repr__(self):\n",
    "        return f\"Value(data={self.data}, grad={self.grad})\"\n",
    "    \n"
   ]
  },
  {
   "cell_type": "code",
   "execution_count": null,
   "metadata": {},
   "outputs": [],
   "source": [
    "w = Value(0.5)"
   ]
  },
  {
   "cell_type": "code",
   "execution_count": null,
   "metadata": {},
   "outputs": [],
   "source": [
    "#  # Just an example value\n",
    "for i in range(10):\n",
    "    x = Value(4)\n",
    "    y_pred = w * x\n",
    "    y_true = Value(3)\n",
    "    loss = (y_pred - y_true) ** 2\n",
    "    loss.backward()  # This populates the gradients\n",
    "    learning_rate = 0.0001\n",
    "    w.data -= learning_rate * w.grad\n",
    "    print(y_pred, loss, w)"
   ]
  },
  {
   "cell_type": "code",
   "execution_count": null,
   "metadata": {},
   "outputs": [],
   "source": [
    "# a + b = 5\n",
    "\n",
    "w1 = Value(.5)\n",
    "w2 = Value(-.5)\n",
    "\n",
    "encoded_a = Value(.1)\n",
    "encoded_b = Value(-.1)"
   ]
  },
  {
   "cell_type": "code",
   "execution_count": null,
   "metadata": {},
   "outputs": [],
   "source": [
    "for i in range(10):\n",
    "    y_pred = w1*encoded_a + w2*encoded_b\n",
    "    y_truth = Value(5)\n",
    "\n",
    "    loss = (y_truth - y_pred) **2\n",
    "\n",
    "    loss.backward()\n",
    "    learning_rate = 0.1\n",
    "    w1.data -= learning_rate * w1.grad\n",
    "    w2.data -= learning_rate * w2.grad\n",
    "\n",
    "    print(y_pred, loss, w1, w2)\n"
   ]
  },
  {
   "cell_type": "markdown",
   "metadata": {},
   "source": [
    "# for emm I want to pridict a\n"
   ]
  },
  {
   "cell_type": "code",
   "execution_count": null,
   "metadata": {},
   "outputs": [],
   "source": [
    "vocab = \".abcdefghijklmnopqrstuvwxyz\"\n",
    "stoi = { char:i for i,char in enumerate(vocab)}\n",
    "print(stoi)"
   ]
  },
  {
   "cell_type": "code",
   "execution_count": null,
   "metadata": {},
   "outputs": [],
   "source": [
    "e  = Value(stoi['e'])\n",
    "m  = Value(stoi['m'])\n",
    "a = Value(stoi['a'])\n",
    "\n",
    "y = a\n",
    "\n",
    "w_e = Value(.1)\n",
    "w_m = Value(.2)"
   ]
  },
  {
   "cell_type": "code",
   "execution_count": null,
   "metadata": {},
   "outputs": [],
   "source": [
    "#pass emm\n",
    "for i in range(10):\n",
    "    y_pred = e*w_e + m * w_m + m * w_m\n",
    "\n",
    "    loss = (y - y_pred)**2\n",
    "    loss.backward()\n",
    "\n",
    "    learning_rate = .0001\n",
    "    w_e -=  learning_rate * e.grad\n",
    "    w_m  -= learning_rate * m.grad\n",
    "\n",
    "    print(y_pred.data, loss.data, w_e.data, w_m.data)\n"
   ]
  },
  {
   "cell_type": "code",
   "execution_count": null,
   "metadata": {},
   "outputs": [],
   "source": [
    "words = open(\"../names.txt\", 'r').read().splitlines()"
   ]
  },
  {
   "cell_type": "code",
   "execution_count": null,
   "metadata": {},
   "outputs": [],
   "source": [
    "\n",
    "\n",
    "X = []\n",
    "Y = []\n",
    "for w in words[:5]:\n",
    "    context = [0,0,0]\n",
    "    for char in w:\n",
    "        X.append(context)\n",
    "        Y.append(char)\n",
    "        \n",
    "        context = context[1:] + [stoi[char]]\n",
    "         "
   ]
  },
  {
   "cell_type": "code",
   "execution_count": null,
   "metadata": {},
   "outputs": [],
   "source": [
    "Xb =  [ list(map(Value, xrow)) for xrow in X] \n",
    "Xb\n"
   ]
  },
  {
   "cell_type": "code",
   "execution_count": 141,
   "metadata": {},
   "outputs": [],
   "source": [
    "# Mean and standard deviation for the Gaussian distribution\n",
    "mean = 0\n",
    "std_dev = 1\n",
    "\n",
    "# Initializing a 3x27 array with Gaussian distributed random numbers\n",
    "w1 = np.random.normal(mean, std_dev, (3, 27))\n",
    "\n"
   ]
  },
  {
   "cell_type": "code",
   "execution_count": 148,
   "metadata": {},
   "outputs": [
    {
     "name": "stdout",
     "output_type": "stream",
     "text": [
      "Value(data=21417.158512077247, grad=0)\n"
     ]
    }
   ],
   "source": [
    "loss = 0\n",
    "for i, d in enumerate(Xb):\n",
    "   weights =  list(map(Value,w1[:,i]))\n",
    "   logits = weights[0]*d[0] + weights[1]*d[1] + weights[2]*d[2]\n",
    "   loss += (logits.data - Value(stoi[Y[i]]))**2 \n",
    "   \n",
    "print(loss)\n",
    "\n",
    "\n"
   ]
  },
  {
   "cell_type": "code",
   "execution_count": 146,
   "metadata": {},
   "outputs": [
    {
     "data": {
      "text/plain": [
       "['e',\n",
       " 'm',\n",
       " 'm',\n",
       " 'a',\n",
       " 'o',\n",
       " 'l',\n",
       " 'i',\n",
       " 'v',\n",
       " 'i',\n",
       " 'a',\n",
       " 'a',\n",
       " 'v',\n",
       " 'a',\n",
       " 'i',\n",
       " 's',\n",
       " 'a',\n",
       " 'b',\n",
       " 'e',\n",
       " 'l',\n",
       " 'l',\n",
       " 'a',\n",
       " 's',\n",
       " 'o',\n",
       " 'p',\n",
       " 'h',\n",
       " 'i',\n",
       " 'a']"
      ]
     },
     "execution_count": 146,
     "metadata": {},
     "output_type": "execute_result"
    }
   ],
   "source": [
    "Y"
   ]
  }
 ],
 "metadata": {
  "kernelspec": {
   "display_name": ".venv",
   "language": "python",
   "name": "python3"
  },
  "language_info": {
   "codemirror_mode": {
    "name": "ipython",
    "version": 3
   },
   "file_extension": ".py",
   "mimetype": "text/x-python",
   "name": "python",
   "nbconvert_exporter": "python",
   "pygments_lexer": "ipython3",
   "version": "3.11.0"
  }
 },
 "nbformat": 4,
 "nbformat_minor": 2
}
